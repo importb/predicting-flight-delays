{
 "cells": [
  {
   "cell_type": "markdown",
   "metadata": {},
   "source": [
    "Here we implement a model to study the data"
   ]
  },
  {
   "cell_type": "code",
   "execution_count": 1,
   "metadata": {},
   "outputs": [],
   "source": [
    "import pandas as pd\n",
    "import numpy as np\n",
    "\n",
    "df=pd.read_csv('2013.csv')"
   ]
  },
  {
   "cell_type": "markdown",
   "metadata": {},
   "source": [
    "# Data formatting"
   ]
  },
  {
   "cell_type": "markdown",
   "metadata": {},
   "source": [
    "Firstly we should drop the unnecessary column"
   ]
  },
  {
   "cell_type": "code",
   "execution_count": 2,
   "metadata": {},
   "outputs": [],
   "source": [
    "df = df.drop(columns=['Unnamed: 27'], errors='ignore') # Removing the useless column"
   ]
  },
  {
   "cell_type": "markdown",
   "metadata": {},
   "source": [
    "We standardize numeric formats to int:"
   ]
  },
  {
   "cell_type": "code",
   "execution_count": 3,
   "metadata": {},
   "outputs": [],
   "source": [
    "for column in df.columns:\n",
    "    if df[column].dtype == 'float64':\n",
    "        # Convert float to int by rounding\n",
    "        df[column] = df[column].round().astype('Int64')\n"
   ]
  },
  {
   "cell_type": "markdown",
   "metadata": {},
   "source": [
    "Next we change our two flag attributes from int to boolean format (boolean is usually preferred in ML applications):"
   ]
  },
  {
   "cell_type": "code",
   "execution_count": 4,
   "metadata": {},
   "outputs": [],
   "source": [
    "# Convert CANCELLED and DIVERTED to boolean\n",
    "boolean_columns = ['CANCELLED', 'DIVERTED']\n",
    "for col in boolean_columns:\n",
    "    df[col] = df[col].astype(bool)"
   ]
  },
  {
   "cell_type": "markdown",
   "metadata": {},
   "source": [
    "Next we find the attributes that are in the military time format"
   ]
  },
  {
   "cell_type": "code",
   "execution_count": 5,
   "metadata": {},
   "outputs": [
    {
     "name": "stdout",
     "output_type": "stream",
     "text": [
      "Columns in military time format:\n",
      "- CRS_DEP_TIME\n",
      "- DEP_TIME\n",
      "- WHEELS_OFF\n",
      "- WHEELS_ON\n",
      "- CRS_ARR_TIME\n",
      "- ARR_TIME\n",
      "- CANCELLED\n",
      "- DIVERTED\n"
     ]
    }
   ],
   "source": [
    "import pandas as pd\n",
    "import numpy as np\n",
    "\n",
    "def identify_military_time_columns(df):\n",
    "    def is_military_time_format(series):\n",
    "        \n",
    "        # Convert to numeric, coercing errors to NaN\n",
    "        numeric_series = pd.to_numeric(series, errors='coerce')\n",
    "        \n",
    "        # Filter out non-numeric columns\n",
    "        if numeric_series.isnull().all():\n",
    "            return False\n",
    "        \n",
    "        range_values = series[(series >= 60) & (series < 100)]\n",
    "\n",
    "        if range_values.any():\n",
    "            return False\n",
    "        \n",
    "        return True\n",
    "\n",
    "    print(\"Columns in military time format:\")\n",
    "    military_time_columns = []\n",
    "    \n",
    "    for column in df.columns:\n",
    "        if is_military_time_format(df[column]):\n",
    "            print(f\"- {column}\")\n",
    "            military_time_columns.append(column)\n",
    "    \n",
    "    if not military_time_columns:\n",
    "        print(\"No columns found in military time format.\")\n",
    "    \n",
    "    return military_time_columns\n",
    "\n",
    "# Example usage\n",
    "result = identify_military_time_columns(df)"
   ]
  },
  {
   "cell_type": "markdown",
   "metadata": {},
   "source": [
    "Next we convert the military time format columns to regular minutes, E.G : 1315 = 13 * 60 + 15, continous numeric features are preferable"
   ]
  },
  {
   "cell_type": "code",
   "execution_count": 6,
   "metadata": {},
   "outputs": [],
   "source": [
    "def convert_military_time_to_minutes(df, military_time_columns):\n",
    "    def military_to_minutes(time_val):\n",
    "        # Convert military time to total minutes\n",
    "        if pd.isna(time_val):\n",
    "            return np.nan\n",
    "        time_str = str(int(time_val)).zfill(4)\n",
    "        hours = int(time_str[:2])\n",
    "        minutes = int(time_str[2:])\n",
    "        return int(hours * 60 + minutes)\n",
    "\n",
    "    for col in military_time_columns:\n",
    "        df[col] = df[col].apply(military_to_minutes)\n",
    "    \n",
    "    return df\n",
    "\n",
    "df = convert_military_time_to_minutes(df,['CRS_DEP_TIME','DEP_TIME','WHEELS_OFF','WHEELS_ON','CRS_ARR_TIME','ARR_TIME'])"
   ]
  },
  {
   "cell_type": "markdown",
   "metadata": {},
   "source": [
    "consider which attributes could be unnecessary (they are expressed through other attributes already.)"
   ]
  },
  {
   "cell_type": "code",
   "execution_count": 10,
   "metadata": {},
   "outputs": [],
   "source": [
    "for column in df.columns:\n",
    "    if df[column].dtype == 'float64':\n",
    "        # Convert float to int by rounding\n",
    "        df[column] = df[column].round().astype('Int64')\n"
   ]
  },
  {
   "cell_type": "code",
   "execution_count": 12,
   "metadata": {},
   "outputs": [
    {
     "name": "stdout",
     "output_type": "stream",
     "text": [
      "FL_DATE                2013-01-01\n",
      "OP_CARRIER                     VX\n",
      "OP_CARRIER_FL_NUM             784\n",
      "ORIGIN                        SEA\n",
      "DEST                          LAX\n",
      "CRS_DEP_TIME                  765\n",
      "DEP_TIME                      767\n",
      "DEP_DELAY                       2\n",
      "TAXI_OUT                       12\n",
      "WHEELS_OFF                    779\n",
      "WHEELS_ON                     898\n",
      "TAXI_IN                         9\n",
      "CRS_ARR_TIME                  920\n",
      "ARR_TIME                      907\n",
      "ARR_DELAY                     -13\n",
      "CANCELLED                       0\n",
      "CANCELLATION_CODE             NaN\n",
      "DIVERTED                        0\n",
      "CRS_ELAPSED_TIME              155\n",
      "ACTUAL_ELAPSED_TIME           140\n",
      "AIR_TIME                      119\n",
      "DISTANCE                      954\n",
      "CARRIER_DELAY                <NA>\n",
      "WEATHER_DELAY                <NA>\n",
      "NAS_DELAY                    <NA>\n",
      "SECURITY_DELAY               <NA>\n",
      "LATE_AIRCRAFT_DELAY          <NA>\n",
      "Name: 101, dtype: object\n"
     ]
    }
   ],
   "source": [
    "print(df.loc[101])"
   ]
  },
  {
   "cell_type": "markdown",
   "metadata": {},
   "source": [
    "CARRIER_DELAY, WEATHER_DELAY, NAS_DELAY, SECURITY_DELAY, LATE_AIRCRAFT_DELAY, values of <NA> should be replaced with 0-s?\n",
    "\n"
   ]
  },
  {
   "cell_type": "markdown",
   "metadata": {},
   "source": [
    "# Machine learning\n",
    "\n",
    "Ideas to look into: \n",
    "- **Using only the data we know before the flight, to predict something about the flight**\n",
    "- **Using data about the flight, to predict something about the delays, how long is some delay based on whole delay**\n",
    "\n"
   ]
  },
  {
   "cell_type": "code",
   "execution_count": 9,
   "metadata": {},
   "outputs": [],
   "source": [
    "\n",
    "columns_to_int = [\n",
    "    'DEP_DELAY', 'TAXI_OUT', 'TAXI_IN', 'ARR_DELAY',\n",
    "    'CRS_ELAPSED_TIME', 'ACTUAL_ELAPSED_TIME', 'AIR_TIME', 'DISTANCE', 'CARRIER_DELAY',\n",
    "    'WEATHER_DELAY', 'NAS_DELAY', 'SECURITY_DELAY', 'LATE_AIRCRAFT_DELAY'\n",
    "] # Selecting the columns that should be changed to int64\n",
    "df[columns_to_int] = df[columns_to_int].astype('Int64') # Applying changes\n",
    "\n",
    "binary_columns = [\n",
    "    'CANCELLED', 'DIVERTED'\n",
    "] # Selecting the columns that should be changed to binary\n",
    "\n",
    "df[binary_columns] = df[binary_columns].astype('Int64') # Applying changes"
   ]
  }
 ],
 "metadata": {
  "kernelspec": {
   "display_name": "Python 3",
   "language": "python",
   "name": "python3"
  },
  "language_info": {
   "codemirror_mode": {
    "name": "ipython",
    "version": 3
   },
   "file_extension": ".py",
   "mimetype": "text/x-python",
   "name": "python",
   "nbconvert_exporter": "python",
   "pygments_lexer": "ipython3",
   "version": "3.11.2"
  }
 },
 "nbformat": 4,
 "nbformat_minor": 2
}
