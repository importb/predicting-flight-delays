{
 "cells": [
  {
   "cell_type": "markdown",
   "metadata": {
    "id": "9rFBddBVWTbv"
   },
   "source": [
    "# Töö uue andmestikuga\n",
    "\n",
    "**NB! andmestiku peab manuaalselt alla tõmbamba kuna githubi limiit on 100 MB**\n",
    "https://www.kaggle.com/datasets/yuanyuwendymu/airline-delay-and-cancellation-data-2009-2018/data?select=2013.csv - 2013.csv"
   ]
  },
  {
   "cell_type": "code",
   "execution_count": 1,
   "metadata": {
    "colab": {
     "base_uri": "https://localhost:8080/"
    },
    "id": "zh_l9ZYjWTbx",
    "outputId": "b3dff014-9104-4ea6-d89d-2404c0887765"
   },
   "outputs": [
    {
     "name": "stdout",
     "output_type": "stream",
     "text": [
      "Collecting kagglehub\n",
      "  Downloading kagglehub-0.3.4-py3-none-any.whl.metadata (22 kB)\n",
      "Requirement already satisfied: packaging in e:\\anaconda\\lib\\site-packages (from kagglehub) (24.1)\n",
      "Requirement already satisfied: requests in e:\\anaconda\\lib\\site-packages (from kagglehub) (2.32.3)\n",
      "Requirement already satisfied: tqdm in e:\\anaconda\\lib\\site-packages (from kagglehub) (4.66.5)\n",
      "Requirement already satisfied: charset-normalizer<4,>=2 in e:\\anaconda\\lib\\site-packages (from requests->kagglehub) (3.3.2)\n",
      "Requirement already satisfied: idna<4,>=2.5 in e:\\anaconda\\lib\\site-packages (from requests->kagglehub) (3.7)\n",
      "Requirement already satisfied: urllib3<3,>=1.21.1 in e:\\anaconda\\lib\\site-packages (from requests->kagglehub) (2.2.3)\n",
      "Requirement already satisfied: certifi>=2017.4.17 in e:\\anaconda\\lib\\site-packages (from requests->kagglehub) (2024.8.30)\n",
      "Requirement already satisfied: colorama in e:\\anaconda\\lib\\site-packages (from tqdm->kagglehub) (0.4.6)\n",
      "Downloading kagglehub-0.3.4-py3-none-any.whl (43 kB)\n",
      "Installing collected packages: kagglehub\n",
      "Successfully installed kagglehub-0.3.4\n",
      "Note: you may need to restart the kernel to use updated packages.\n"
     ]
    }
   ],
   "source": [
    "%pip install kagglehub"
   ]
  },
  {
   "cell_type": "code",
   "execution_count": 2,
   "metadata": {
    "colab": {
     "base_uri": "https://localhost:8080/"
    },
    "id": "Tt5r5OXzWTbz",
    "outputId": "4bbb1c30-57a1-4365-d2b7-da33baf8ac54"
   },
   "outputs": [
    {
     "name": "stdout",
     "output_type": "stream",
     "text": [
      "Downloading from https://www.kaggle.com/api/v1/datasets/download/yuanyuwendymu/airline-delay-and-cancellation-data-2009-2018?dataset_version_number=1...\n"
     ]
    },
    {
     "name": "stderr",
     "output_type": "stream",
     "text": [
      "100%|█████████████████████████████████████████████████████████████████████████████| 1.95G/1.95G [03:32<00:00, 9.85MB/s]"
     ]
    },
    {
     "name": "stdout",
     "output_type": "stream",
     "text": [
      "Extracting files...\n"
     ]
    },
    {
     "name": "stderr",
     "output_type": "stream",
     "text": [
      "\n"
     ]
    },
    {
     "name": "stdout",
     "output_type": "stream",
     "text": [
      "Path to dataset files: C:\\Users\\Rainer\\.cache\\kagglehub\\datasets\\yuanyuwendymu\\airline-delay-and-cancellation-data-2009-2018\\versions\\1\n"
     ]
    }
   ],
   "source": [
    "import kagglehub\n",
    "\n",
    "#Download latest version\n",
    "path = kagglehub.dataset_download(\"yuanyuwendymu/airline-delay-and-cancellation-data-2009-2018\")\n",
    "\n",
    "print(\"Path to dataset files:\", path)"
   ]
  },
  {
   "cell_type": "code",
   "execution_count": 3,
   "metadata": {
    "colab": {
     "base_uri": "https://localhost:8080/"
    },
    "id": "FikamTfjWTb0",
    "outputId": "65bc2a99-74cf-455d-b865-11249d812070"
   },
   "outputs": [
    {
     "name": "stdout",
     "output_type": "stream",
     "text": [
      "Requirement already satisfied: pandas in e:\\anaconda\\lib\\site-packages (2.2.2)\n",
      "Requirement already satisfied: numpy>=1.26.0 in e:\\anaconda\\lib\\site-packages (from pandas) (1.26.4)\n",
      "Requirement already satisfied: python-dateutil>=2.8.2 in e:\\anaconda\\lib\\site-packages (from pandas) (2.9.0.post0)\n",
      "Requirement already satisfied: pytz>=2020.1 in e:\\anaconda\\lib\\site-packages (from pandas) (2024.1)\n",
      "Requirement already satisfied: tzdata>=2022.7 in e:\\anaconda\\lib\\site-packages (from pandas) (2023.3)\n",
      "Requirement already satisfied: six>=1.5 in e:\\anaconda\\lib\\site-packages (from python-dateutil>=2.8.2->pandas) (1.16.0)\n",
      "Note: you may need to restart the kernel to use updated packages.\n",
      "Requirement already satisfied: numpy in e:\\anaconda\\lib\\site-packages (1.26.4)\n",
      "Note: you may need to restart the kernel to use updated packages.\n"
     ]
    }
   ],
   "source": [
    "%pip install pandas\n",
    "%pip install numpy"
   ]
  },
  {
   "cell_type": "code",
   "execution_count": 4,
   "metadata": {
    "id": "dJ7EeIzpWTb0"
   },
   "outputs": [],
   "source": [
    "import pandas as pd\n",
    "import numpy as np\n",
    "\n",
    "df=pd.read_csv('2013.csv')"
   ]
  },
  {
   "cell_type": "markdown",
   "metadata": {
    "id": "SaHpTpfDWTb1"
   },
   "source": [
    "Let's start working with the 2013's data. Let's check at first which features it has by printing the first 5 rows and then checking the dataset's dimensions.\n",
    "\n"
   ]
  },
  {
   "cell_type": "code",
   "execution_count": 5,
   "metadata": {
    "colab": {
     "base_uri": "https://localhost:8080/"
    },
    "id": "W9szA8gHWTb1",
    "outputId": "2b911770-0c78-4201-f5ed-8338dd5145c4"
   },
   "outputs": [
    {
     "name": "stdout",
     "output_type": "stream",
     "text": [
      "      FL_DATE OP_CARRIER  OP_CARRIER_FL_NUM ORIGIN DEST  CRS_DEP_TIME  \\\n",
      "0  2013-01-01         VX                108    LAX  IAD           700   \n",
      "1  2013-01-01         VX                114    LAX  IAD          2205   \n",
      "2  2013-01-01         VX                 11    JFK  SFO           730   \n",
      "3  2013-01-01         VX                121    PHL  LAX           700   \n",
      "4  2013-01-01         VX                124    LAX  PHL          1100   \n",
      "\n",
      "   DEP_TIME  DEP_DELAY  TAXI_OUT  WHEELS_OFF  ...  CRS_ELAPSED_TIME  \\\n",
      "0     700.0        0.0       8.0       708.0  ...             285.0   \n",
      "1    2204.0       -1.0      12.0      2216.0  ...             280.0   \n",
      "2     729.0       -1.0      18.0       747.0  ...             405.0   \n",
      "3     700.0        0.0      14.0       714.0  ...             360.0   \n",
      "4    1104.0        4.0      12.0      1116.0  ...             315.0   \n",
      "\n",
      "   ACTUAL_ELAPSED_TIME  AIR_TIME  DISTANCE  CARRIER_DELAY  WEATHER_DELAY  \\\n",
      "0                258.0     243.0    2288.0            NaN            NaN   \n",
      "1                272.0     247.0    2288.0            NaN            NaN   \n",
      "2                380.0     356.0    2586.0            NaN            NaN   \n",
      "3                374.0     352.0    2402.0            NaN            NaN   \n",
      "4                273.0     252.0    2402.0            NaN            NaN   \n",
      "\n",
      "  NAS_DELAY  SECURITY_DELAY  LATE_AIRCRAFT_DELAY  Unnamed: 27  \n",
      "0       NaN             NaN                  NaN          NaN  \n",
      "1       NaN             NaN                  NaN          NaN  \n",
      "2       NaN             NaN                  NaN          NaN  \n",
      "3       NaN             NaN                  NaN          NaN  \n",
      "4       NaN             NaN                  NaN          NaN  \n",
      "\n",
      "[5 rows x 28 columns]\n",
      "Dimensions of the dataset are: (6369482, 28)\n"
     ]
    }
   ],
   "source": [
    "\n",
    "print(df.head(5))\n",
    "\n",
    "\n",
    "\n",
    "print(f\"Dimensions of the dataset are: {np.shape(df)}\")\n"
   ]
  },
  {
   "cell_type": "markdown",
   "metadata": {
    "id": "BA6vd3qqWTb3"
   },
   "source": [
    "We can also see that we have 6369482 rows and 28 columns in that dataset."
   ]
  },
  {
   "cell_type": "code",
   "execution_count": 6,
   "metadata": {
    "colab": {
     "base_uri": "https://localhost:8080/"
    },
    "id": "P9HtX-LUWTb3",
    "outputId": "11d9ff60-77d5-4cb1-ed44-cb5fa5c56dc1"
   },
   "outputs": [
    {
     "name": "stdout",
     "output_type": "stream",
     "text": [
      "FL_DATE                2013-01-01\n",
      "OP_CARRIER                     VX\n",
      "OP_CARRIER_FL_NUM             783\n",
      "ORIGIN                        LAX\n",
      "DEST                          SEA\n",
      "CRS_DEP_TIME                 1235\n",
      "DEP_TIME                   1235.0\n",
      "DEP_DELAY                     0.0\n",
      "TAXI_OUT                      9.0\n",
      "WHEELS_OFF                 1244.0\n",
      "WHEELS_ON                  1459.0\n",
      "TAXI_IN                       8.0\n",
      "CRS_ARR_TIME                 1515\n",
      "ARR_TIME                   1507.0\n",
      "ARR_DELAY                    -8.0\n",
      "CANCELLED                     0.0\n",
      "CANCELLATION_CODE             NaN\n",
      "DIVERTED                      0.0\n",
      "CRS_ELAPSED_TIME            160.0\n",
      "ACTUAL_ELAPSED_TIME         152.0\n",
      "AIR_TIME                    135.0\n",
      "DISTANCE                    954.0\n",
      "CARRIER_DELAY                 NaN\n",
      "WEATHER_DELAY                 NaN\n",
      "NAS_DELAY                     NaN\n",
      "SECURITY_DELAY                NaN\n",
      "LATE_AIRCRAFT_DELAY           NaN\n",
      "Unnamed: 27                   NaN\n",
      "Name: 100, dtype: object\n"
     ]
    }
   ],
   "source": [
    "print(df.loc[100]) # Let's check how row with index 100 looks like"
   ]
  },
  {
   "cell_type": "code",
   "execution_count": 7,
   "metadata": {
    "colab": {
     "base_uri": "https://localhost:8080/"
    },
    "id": "aYGZVHiuWTb4",
    "outputId": "7d7e4d77-7419-4791-ec3e-f7277b8e7f89"
   },
   "outputs": [
    {
     "name": "stdout",
     "output_type": "stream",
     "text": [
      "FL_DATE                 object\n",
      "OP_CARRIER              object\n",
      "OP_CARRIER_FL_NUM        int64\n",
      "ORIGIN                  object\n",
      "DEST                    object\n",
      "CRS_DEP_TIME             int64\n",
      "DEP_TIME               float64\n",
      "DEP_DELAY              float64\n",
      "TAXI_OUT               float64\n",
      "WHEELS_OFF             float64\n",
      "WHEELS_ON              float64\n",
      "TAXI_IN                float64\n",
      "CRS_ARR_TIME             int64\n",
      "ARR_TIME               float64\n",
      "ARR_DELAY              float64\n",
      "CANCELLED              float64\n",
      "CANCELLATION_CODE       object\n",
      "DIVERTED               float64\n",
      "CRS_ELAPSED_TIME       float64\n",
      "ACTUAL_ELAPSED_TIME    float64\n",
      "AIR_TIME               float64\n",
      "DISTANCE               float64\n",
      "CARRIER_DELAY          float64\n",
      "WEATHER_DELAY          float64\n",
      "NAS_DELAY              float64\n",
      "SECURITY_DELAY         float64\n",
      "LATE_AIRCRAFT_DELAY    float64\n",
      "Unnamed: 27            float64\n",
      "dtype: object\n"
     ]
    }
   ],
   "source": [
    "print(df.dtypes) # Let's check what the types of each column are and whether it is correct or not\n"
   ]
  },
  {
   "cell_type": "markdown",
   "metadata": {
    "id": "vCY73fhHWTb5"
   },
   "source": [
    "After observing the meaning of each column and its values, it is important for us to change the way values are being formatted in the following columns: 'CRS_DEP_TIME', 'DEP_TIME', 'DEP_DELAY', 'TAXI_OUT', 'WHEELS_OFF', 'WHEELS_ON', 'TAXI_IN', 'CRS_ARR_TIME', 'ARR_TIME', 'ARR_DELAY', 'CANCELLED', 'DIVERTED', 'CRS_ELAPSED_TIME', 'ACTUAL_ELAPSED_TIME', 'AIR_TIME', 'DISTANCE', 'CARRIER_DELAY', 'WEATHER_DELAY', 'NAS_DELAY', 'SECURITY_DELAY' and 'LATE_AIRCRAFT_DELAY'. Also, 'Unnamed: 27' column is useless so we can remove it.\n",
    "\n",
    "Let's note that if we use other datasets in the future for evaluation, we need to apply those changes there as well in similar fashion."
   ]
  },
  {
   "cell_type": "markdown",
   "metadata": {
    "id": "98w9Z8jeWTb5"
   },
   "source": [
    "Many changes are similar: they require changing the type from float64 to int64.\n",
    "\n",
    "Those columns are as they follow: 'DEP_DELAY', 'TAXI_OUT', 'TAXI_IN', 'ARR_DELAY', 'CRS_ELAPSED_TIME', 'ACTUAL_ELAPSED_TIME', 'AIR_TIME', 'DISTANCE', 'CARRIER_DELAY', 'WEATHER_DELAY', 'NAS_DELAY', 'SECURITY_DELAY', 'LATE_AIRCRAFT_DELAY'.\n",
    "\n",
    "There are also some columns that should be binary: 'CANCELLED', 'DIVERTED'.\n",
    "\n",
    "Some columns require more complicated transformations so they would be in time format, those ones are as they follow: 'CRS_DEP_TIME', 'DEP_TIME', 'WHEELS_OFF', 'WHEELS_ON', 'CRS_ARR_TIME', 'ARR_TIME'."
   ]
  },
  {
   "cell_type": "markdown",
   "metadata": {
    "id": "dXd3ldlWWTb5"
   },
   "source": [
    "Let's apply those changes now."
   ]
  },
  {
   "cell_type": "code",
   "execution_count": 8,
   "metadata": {
    "id": "R8gyZ0BKWTb6"
   },
   "outputs": [],
   "source": [
    "df = df.drop(columns=['Unnamed: 27'], errors='ignore') # Removing the useless column\n",
    "\n",
    "columns_to_int = [\n",
    "    'DEP_DELAY', 'TAXI_OUT', 'TAXI_IN', 'ARR_DELAY',\n",
    "    'CRS_ELAPSED_TIME', 'ACTUAL_ELAPSED_TIME', 'AIR_TIME', 'DISTANCE', 'CARRIER_DELAY',\n",
    "    'WEATHER_DELAY', 'NAS_DELAY', 'SECURITY_DELAY', 'LATE_AIRCRAFT_DELAY'\n",
    "] # Selecting the columns that should be changed to int64\n",
    "df[columns_to_int] = df[columns_to_int].astype('Int64') # Applying changes\n",
    "\n",
    "binary_columns = [\n",
    "    'CANCELLED',\n",
    "    'DIVERTED'\n",
    "] # Selecting the columns that should be changed to binary\n",
    "\n",
    "df[binary_columns] = df[binary_columns].astype('Int64') # Applying changes"
   ]
  },
  {
   "cell_type": "markdown",
   "metadata": {
    "id": "0VWr2xKbWTb6"
   },
   "source": [
    "Now, let's get to the tricky part. We currently have times mostly in 'HHMM' format but we should convert them to 'HH:MM' format. Let's define a function that should be able to convert the times into correct format."
   ]
  },
  {
   "cell_type": "code",
   "execution_count": 9,
   "metadata": {
    "id": "OWdAHLeOWTb6"
   },
   "outputs": [],
   "source": [
    "def convert_to_time_format(value):\n",
    "    if pd.isna(value):\n",
    "        return pd.NaT\n",
    "    value = int(value)  # In case it's stored as float\n",
    "    hours = value // 100\n",
    "    minutes = value % 100\n",
    "    return f\"{hours:02}:{minutes:02}\""
   ]
  },
  {
   "cell_type": "markdown",
   "metadata": {
    "id": "uoLbZse1WTb7"
   },
   "source": [
    "Now, let's transform those columns by using this function."
   ]
  },
  {
   "cell_type": "code",
   "execution_count": 10,
   "metadata": {
    "id": "7zBQs5pPWTb7"
   },
   "outputs": [],
   "source": [
    "time_columns = ['CRS_DEP_TIME', 'DEP_TIME', 'WHEELS_OFF', 'WHEELS_ON', 'CRS_ARR_TIME', 'ARR_TIME']\n",
    "# Selecting the columns that should be transformed\n",
    "\n",
    "for col in time_columns:\n",
    "    df[col] = df[col].apply(convert_to_time_format) # Applying changes"
   ]
  },
  {
   "cell_type": "markdown",
   "metadata": {
    "id": "D5-O9bxUWTb7"
   },
   "source": [
    "Let's check if those changes were applied correctly."
   ]
  },
  {
   "cell_type": "code",
   "execution_count": 11,
   "metadata": {
    "colab": {
     "base_uri": "https://localhost:8080/"
    },
    "id": "KTUXsmUXWTb7",
    "outputId": "6c426285-2a6d-4542-c265-02b8c7881f5a"
   },
   "outputs": [
    {
     "name": "stdout",
     "output_type": "stream",
     "text": [
      "FL_DATE                object\n",
      "OP_CARRIER             object\n",
      "OP_CARRIER_FL_NUM       int64\n",
      "ORIGIN                 object\n",
      "DEST                   object\n",
      "CRS_DEP_TIME           object\n",
      "DEP_TIME               object\n",
      "DEP_DELAY               Int64\n",
      "TAXI_OUT                Int64\n",
      "WHEELS_OFF             object\n",
      "WHEELS_ON              object\n",
      "TAXI_IN                 Int64\n",
      "CRS_ARR_TIME           object\n",
      "ARR_TIME               object\n",
      "ARR_DELAY               Int64\n",
      "CANCELLED               Int64\n",
      "CANCELLATION_CODE      object\n",
      "DIVERTED                Int64\n",
      "CRS_ELAPSED_TIME        Int64\n",
      "ACTUAL_ELAPSED_TIME     Int64\n",
      "AIR_TIME                Int64\n",
      "DISTANCE                Int64\n",
      "CARRIER_DELAY           Int64\n",
      "WEATHER_DELAY           Int64\n",
      "NAS_DELAY               Int64\n",
      "SECURITY_DELAY          Int64\n",
      "LATE_AIRCRAFT_DELAY     Int64\n",
      "dtype: object\n"
     ]
    }
   ],
   "source": [
    "print(df.dtypes)\n"
   ]
  },
  {
   "cell_type": "markdown",
   "metadata": {
    "id": "vp1U8tKdWTb8"
   },
   "source": [
    "Types are correct now."
   ]
  },
  {
   "cell_type": "code",
   "execution_count": 12,
   "metadata": {
    "colab": {
     "base_uri": "https://localhost:8080/"
    },
    "id": "h_neYlmrWTb8",
    "outputId": "2a4e126c-cb56-4428-b90e-c586bf8e01cd"
   },
   "outputs": [
    {
     "name": "stdout",
     "output_type": "stream",
     "text": [
      "FL_DATE                2013-01-01\n",
      "OP_CARRIER                     VX\n",
      "OP_CARRIER_FL_NUM             783\n",
      "ORIGIN                        LAX\n",
      "DEST                          SEA\n",
      "CRS_DEP_TIME                12:35\n",
      "DEP_TIME                    12:35\n",
      "DEP_DELAY                       0\n",
      "TAXI_OUT                        9\n",
      "WHEELS_OFF                  12:44\n",
      "WHEELS_ON                   14:59\n",
      "TAXI_IN                         8\n",
      "CRS_ARR_TIME                15:15\n",
      "ARR_TIME                    15:07\n",
      "ARR_DELAY                      -8\n",
      "CANCELLED                       0\n",
      "CANCELLATION_CODE             NaN\n",
      "DIVERTED                        0\n",
      "CRS_ELAPSED_TIME              160\n",
      "ACTUAL_ELAPSED_TIME           152\n",
      "AIR_TIME                      135\n",
      "DISTANCE                      954\n",
      "CARRIER_DELAY                <NA>\n",
      "WEATHER_DELAY                <NA>\n",
      "NAS_DELAY                    <NA>\n",
      "SECURITY_DELAY               <NA>\n",
      "LATE_AIRCRAFT_DELAY          <NA>\n",
      "Name: 100, dtype: object\n"
     ]
    }
   ],
   "source": [
    "print(df.loc[100])"
   ]
  },
  {
   "cell_type": "markdown",
   "metadata": {
    "id": "1gbN4gVlWTb8"
   },
   "source": [
    "After taking a look at a row (with 100 index), it seems that we have managed to make appropriate transformations, which is important for further analysis."
   ]
  },
  {
   "cell_type": "markdown",
   "metadata": {
    "id": "JQhC5Sa8WTb8"
   },
   "source": [
    "Let's check which columns have missing values and handle them appropriately."
   ]
  },
  {
   "cell_type": "code",
   "execution_count": 13,
   "metadata": {
    "colab": {
     "base_uri": "https://localhost:8080/",
     "height": 931
    },
    "id": "q9Y2JZrbWTb9",
    "outputId": "7ad0e6b8-7ee8-4c23-bc0a-3b7130b80127"
   },
   "outputs": [
    {
     "data": {
      "text/plain": [
       "FL_DATE                      0\n",
       "OP_CARRIER                   0\n",
       "OP_CARRIER_FL_NUM            0\n",
       "ORIGIN                       0\n",
       "DEST                         0\n",
       "CRS_DEP_TIME                 0\n",
       "DEP_TIME                 91681\n",
       "DEP_DELAY                91681\n",
       "TAXI_OUT                 94903\n",
       "WHEELS_OFF               94903\n",
       "WHEELS_ON                98275\n",
       "TAXI_IN                  98275\n",
       "CRS_ARR_TIME                 0\n",
       "ARR_TIME                 98275\n",
       "ARR_DELAY               110172\n",
       "CANCELLED                    0\n",
       "CANCELLATION_CODE      6273470\n",
       "DIVERTED                     0\n",
       "CRS_ELAPSED_TIME             5\n",
       "ACTUAL_ELAPSED_TIME     110172\n",
       "AIR_TIME                110172\n",
       "DISTANCE                     0\n",
       "CARRIER_DELAY          5100205\n",
       "WEATHER_DELAY          5100205\n",
       "NAS_DELAY              5100205\n",
       "SECURITY_DELAY         5100205\n",
       "LATE_AIRCRAFT_DELAY    5100205\n",
       "dtype: int64"
      ]
     },
     "execution_count": 13,
     "metadata": {},
     "output_type": "execute_result"
    }
   ],
   "source": [
    "df.isnull().sum()"
   ]
  },
  {
   "cell_type": "markdown",
   "metadata": {
    "id": "zH8yiI6XWTb9"
   },
   "source": [
    "It's alarming that amount of missing values in WHEELS_OFF and WHEELS_ON isn't the same. Let's investigate."
   ]
  },
  {
   "cell_type": "code",
   "execution_count": 14,
   "metadata": {
    "colab": {
     "base_uri": "https://localhost:8080/"
    },
    "id": "xEeaVuhpWTb9",
    "outputId": "7566ee50-a242-49ef-f33f-d36ca08820fc"
   },
   "outputs": [
    {
     "name": "stdout",
     "output_type": "stream",
     "text": [
      "          FL_DATE OP_CARRIER  OP_CARRIER_FL_NUM ORIGIN DEST CRS_DEP_TIME  \\\n",
      "3245   2013-01-01         EV               4204    EWR  OKC        19:30   \n",
      "6325   2013-01-01         MQ               4050    PIT  ORD        16:50   \n",
      "6774   2013-01-01         OO               7407    SLC  SUN        20:05   \n",
      "6837   2013-01-01         OO               5440    PDX  RDM        21:50   \n",
      "7226   2013-01-01         OO               2987    PHX  SBP        21:05   \n",
      "7272   2013-01-01         OO               5336    LAX  SBP        20:35   \n",
      "7574   2013-01-01         OO               5414    SFO  RDM        21:10   \n",
      "8137   2013-01-01         OO               7401    SLC  SUN        11:25   \n",
      "11336  2013-01-01         AA                475    DCA  DFW        08:10   \n",
      "17673  2013-01-02         AS                 66    YAK  JNU        18:30   \n",
      "\n",
      "      DEP_TIME  DEP_DELAY  TAXI_OUT WHEELS_OFF WHEELS_ON  TAXI_IN  \\\n",
      "3245     20:16         46        12      20:28       NaT     <NA>   \n",
      "6325     16:43         -7        15      16:58       NaT     <NA>   \n",
      "6774     20:46         41        17      21:03       NaT     <NA>   \n",
      "6837     21:47         -3         7      21:54       NaT     <NA>   \n",
      "7226     20:58         -7        15      21:13       NaT     <NA>   \n",
      "7272     21:03         28        14      21:17       NaT     <NA>   \n",
      "7574     21:06         -4        12      21:18       NaT     <NA>   \n",
      "8137     11:26          1        20      11:46       NaT     <NA>   \n",
      "11336    11:53        223        30      12:23       NaT     <NA>   \n",
      "17673    18:05        -25        16      18:21       NaT     <NA>   \n",
      "\n",
      "      CRS_ARR_TIME ARR_TIME  ARR_DELAY  CANCELLED CANCELLATION_CODE  DIVERTED  \\\n",
      "3245         22:20      NaT       <NA>          0               NaN         1   \n",
      "6325         17:25      NaT       <NA>          0               NaN         1   \n",
      "6774         21:05      NaT       <NA>          0               NaN         1   \n",
      "6837         22:31      NaT       <NA>          1                 B         0   \n",
      "7226         21:50      NaT       <NA>          0               NaN         1   \n",
      "7272         21:36      NaT       <NA>          1                 C         0   \n",
      "7574         22:42      NaT       <NA>          1                 B         0   \n",
      "8137         12:43      NaT       <NA>          0               NaN         1   \n",
      "11336        10:45      NaT       <NA>          0               NaN         1   \n",
      "17673        19:15      NaT       <NA>          0               NaN         1   \n",
      "\n",
      "       CRS_ELAPSED_TIME  ACTUAL_ELAPSED_TIME  AIR_TIME  DISTANCE  \\\n",
      "3245                230                 <NA>      <NA>      1325   \n",
      "6325                 95                 <NA>      <NA>       413   \n",
      "6774                 60                 <NA>      <NA>       222   \n",
      "6837                 41                 <NA>      <NA>       116   \n",
      "7226                105                 <NA>      <NA>       509   \n",
      "7272                 61                 <NA>      <NA>       156   \n",
      "7574                 92                 <NA>      <NA>       462   \n",
      "8137                 78                 <NA>      <NA>       222   \n",
      "11336               215                 <NA>      <NA>      1192   \n",
      "17673                45                 <NA>      <NA>       198   \n",
      "\n",
      "       CARRIER_DELAY  WEATHER_DELAY  NAS_DELAY  SECURITY_DELAY  \\\n",
      "3245            <NA>           <NA>       <NA>            <NA>   \n",
      "6325            <NA>           <NA>       <NA>            <NA>   \n",
      "6774            <NA>           <NA>       <NA>            <NA>   \n",
      "6837            <NA>           <NA>       <NA>            <NA>   \n",
      "7226            <NA>           <NA>       <NA>            <NA>   \n",
      "7272            <NA>           <NA>       <NA>            <NA>   \n",
      "7574            <NA>           <NA>       <NA>            <NA>   \n",
      "8137            <NA>           <NA>       <NA>            <NA>   \n",
      "11336           <NA>           <NA>       <NA>            <NA>   \n",
      "17673           <NA>           <NA>       <NA>            <NA>   \n",
      "\n",
      "       LATE_AIRCRAFT_DELAY  \n",
      "3245                  <NA>  \n",
      "6325                  <NA>  \n",
      "6774                  <NA>  \n",
      "6837                  <NA>  \n",
      "7226                  <NA>  \n",
      "7272                  <NA>  \n",
      "7574                  <NA>  \n",
      "8137                  <NA>  \n",
      "11336                 <NA>  \n",
      "17673                 <NA>  \n"
     ]
    }
   ],
   "source": [
    "\n",
    "filtered_df = df[df['WHEELS_OFF'].notna() & df['WHEELS_ON'].isna()] # Filtering rows where WHEELS_OFF is not missing, and WHEELS_ON is missing\n",
    "\n",
    "pd.set_option('display.max_columns', None)\n",
    "\n",
    "print(filtered_df.head(10)) # Showing the first 10 rows of the filtered DataFrame"
   ]
  },
  {
   "cell_type": "markdown",
   "metadata": {
    "id": "zNlpZed6WTb9"
   },
   "source": [
    "The issue is that there is no data about the flight arriving. It is as if the plane has been in the air for years. Having such rows will not do us any good for analysis. Therefore, we will need to use an imputation strategy. The best strategy seems to be using list-wise deletion which means that the rows that have missing values in that column will not be included."
   ]
  },
  {
   "cell_type": "code",
   "execution_count": 15,
   "metadata": {
    "id": "AsOGaVySWTb-"
   },
   "outputs": [],
   "source": [
    "df_cleaned = df[~((df['WHEELS_OFF'].notna()) & (df['WHEELS_ON'].isna()))]\n"
   ]
  },
  {
   "cell_type": "code",
   "execution_count": 16,
   "metadata": {
    "colab": {
     "base_uri": "https://localhost:8080/",
     "height": 931
    },
    "id": "GVmef0Y-WTb-",
    "outputId": "47c4e760-c0b9-42d0-a4df-e49faca73070"
   },
   "outputs": [
    {
     "data": {
      "text/plain": [
       "FL_DATE                      0\n",
       "OP_CARRIER                   0\n",
       "OP_CARRIER_FL_NUM            0\n",
       "ORIGIN                       0\n",
       "DEST                         0\n",
       "CRS_DEP_TIME                 0\n",
       "DEP_TIME                 91681\n",
       "DEP_DELAY                91681\n",
       "TAXI_OUT                 94903\n",
       "WHEELS_OFF               94903\n",
       "WHEELS_ON                94903\n",
       "TAXI_IN                  94903\n",
       "CRS_ARR_TIME                 0\n",
       "ARR_TIME                 94903\n",
       "ARR_DELAY               106800\n",
       "CANCELLED                    0\n",
       "CANCELLATION_CODE      6271207\n",
       "DIVERTED                     0\n",
       "CRS_ELAPSED_TIME             3\n",
       "ACTUAL_ELAPSED_TIME     106800\n",
       "AIR_TIME                106800\n",
       "DISTANCE                     0\n",
       "CARRIER_DELAY          5096833\n",
       "WEATHER_DELAY          5096833\n",
       "NAS_DELAY              5096833\n",
       "SECURITY_DELAY         5096833\n",
       "LATE_AIRCRAFT_DELAY    5096833\n",
       "dtype: int64"
      ]
     },
     "execution_count": 16,
     "metadata": {},
     "output_type": "execute_result"
    }
   ],
   "source": [
    "df_cleaned.isnull().sum()"
   ]
  },
  {
   "cell_type": "markdown",
   "metadata": {
    "id": "yjxtSYd1WTb-"
   },
   "source": [
    "There is still an alarming thing that amount of missing values is not the same for 'DEP_TIME' and 'WHEELS_OFF'. Let's investigate."
   ]
  },
  {
   "cell_type": "code",
   "execution_count": 17,
   "metadata": {
    "colab": {
     "base_uri": "https://localhost:8080/"
    },
    "id": "tOztinerWTb-",
    "outputId": "73d3613a-89e7-41be-a047-e5837a633ad4"
   },
   "outputs": [
    {
     "name": "stdout",
     "output_type": "stream",
     "text": [
      "          FL_DATE OP_CARRIER  OP_CARRIER_FL_NUM ORIGIN DEST CRS_DEP_TIME  \\\n",
      "8998   2013-01-01         US                448    SLC  CLT        23:59   \n",
      "15578  2013-01-02         9E               3863    MEM  ATL        07:15   \n",
      "15893  2013-01-02         9E               4335    SAT  MEM        06:00   \n",
      "22557  2013-01-02         OO               5580    LAX  ASE        18:50   \n",
      "22812  2013-01-02         OO               6210    DFW  ORD        06:00   \n",
      "26648  2013-01-02         EV               4654    IAH  HRL        17:31   \n",
      "27460  2013-01-02         EV               5702    ORD  CAE        19:58   \n",
      "41724  2013-01-03         OO               5439    EUG  PDX        05:45   \n",
      "44844  2013-01-03         US                240    CMH  PHX        07:30   \n",
      "47848  2013-01-03         AA               1792    ORD  MIA        14:30   \n",
      "\n",
      "      DEP_TIME  DEP_DELAY  TAXI_OUT WHEELS_OFF WHEELS_ON  TAXI_IN  \\\n",
      "8998     01:07         68      <NA>        NaT       NaT     <NA>   \n",
      "15578    07:16          1      <NA>        NaT       NaT     <NA>   \n",
      "15893    05:59         -1      <NA>        NaT       NaT     <NA>   \n",
      "22557    19:18         28      <NA>        NaT       NaT     <NA>   \n",
      "22812    05:54         -6      <NA>        NaT       NaT     <NA>   \n",
      "26648    20:08        157      <NA>        NaT       NaT     <NA>   \n",
      "27460    20:30         32      <NA>        NaT       NaT     <NA>   \n",
      "41724    05:45          0      <NA>        NaT       NaT     <NA>   \n",
      "44844    07:25         -5      <NA>        NaT       NaT     <NA>   \n",
      "47848    14:28         -2      <NA>        NaT       NaT     <NA>   \n",
      "\n",
      "      CRS_ARR_TIME ARR_TIME  ARR_DELAY  CANCELLED CANCELLATION_CODE  DIVERTED  \\\n",
      "8998         05:32      NaT       <NA>          1                 A         0   \n",
      "15578        09:39      NaT       <NA>          1                 A         0   \n",
      "15893        07:49      NaT       <NA>          1                 A         0   \n",
      "22557        21:56      NaT       <NA>          1                 A         0   \n",
      "22812        08:11      NaT       <NA>          1                 A         0   \n",
      "26648        18:42      NaT       <NA>          1                 C         0   \n",
      "27460        22:50      NaT       <NA>          1                 C         0   \n",
      "41724        06:26      NaT       <NA>          1                 A         0   \n",
      "44844        10:07      NaT       <NA>          1                 A         0   \n",
      "47848        18:35      NaT       <NA>          1                 A         0   \n",
      "\n",
      "       CRS_ELAPSED_TIME  ACTUAL_ELAPSED_TIME  AIR_TIME  DISTANCE  \\\n",
      "8998                213                 <NA>      <NA>      1727   \n",
      "15578                84                 <NA>      <NA>       332   \n",
      "15893               109                 <NA>      <NA>       625   \n",
      "22557               126                 <NA>      <NA>       737   \n",
      "22812               131                 <NA>      <NA>       802   \n",
      "26648                71                 <NA>      <NA>       295   \n",
      "27460               112                 <NA>      <NA>       667   \n",
      "41724                41                 <NA>      <NA>       106   \n",
      "44844               277                 <NA>      <NA>      1670   \n",
      "47848               185                 <NA>      <NA>      1197   \n",
      "\n",
      "       CARRIER_DELAY  WEATHER_DELAY  NAS_DELAY  SECURITY_DELAY  \\\n",
      "8998            <NA>           <NA>       <NA>            <NA>   \n",
      "15578           <NA>           <NA>       <NA>            <NA>   \n",
      "15893           <NA>           <NA>       <NA>            <NA>   \n",
      "22557           <NA>           <NA>       <NA>            <NA>   \n",
      "22812           <NA>           <NA>       <NA>            <NA>   \n",
      "26648           <NA>           <NA>       <NA>            <NA>   \n",
      "27460           <NA>           <NA>       <NA>            <NA>   \n",
      "41724           <NA>           <NA>       <NA>            <NA>   \n",
      "44844           <NA>           <NA>       <NA>            <NA>   \n",
      "47848           <NA>           <NA>       <NA>            <NA>   \n",
      "\n",
      "       LATE_AIRCRAFT_DELAY  \n",
      "8998                  <NA>  \n",
      "15578                 <NA>  \n",
      "15893                 <NA>  \n",
      "22557                 <NA>  \n",
      "22812                 <NA>  \n",
      "26648                 <NA>  \n",
      "27460                 <NA>  \n",
      "41724                 <NA>  \n",
      "44844                 <NA>  \n",
      "47848                 <NA>  \n"
     ]
    }
   ],
   "source": [
    "filtered_df = df_cleaned[df_cleaned['DEP_TIME'].notna() & df_cleaned['WHEELS_OFF'].isna()] # Filtering rows where DEP_TIME is not missing, and WHEELS_OFF is missing\n",
    "\n",
    "pd.set_option('display.max_columns', None)\n",
    "\n",
    "print(filtered_df.head(10)) # Showing the first 10 rows of the filtered DataFrame"
   ]
  },
  {
   "cell_type": "markdown",
   "metadata": {
    "id": "mwl3rMBwWTb-"
   },
   "source": [
    "It seems like there are cases where airplane has departed but has not touched off the ground. This would mean that airport has been driving on land for years which makes no sense. Let's use list-wise deletion once again to fix this."
   ]
  },
  {
   "cell_type": "code",
   "execution_count": 18,
   "metadata": {
    "id": "SEnv210VWTb_"
   },
   "outputs": [],
   "source": [
    "df_cleaned2 = df_cleaned[~((df_cleaned['DEP_TIME'].notna()) & (df_cleaned['WHEELS_OFF'].isna()))]"
   ]
  },
  {
   "cell_type": "code",
   "execution_count": 19,
   "metadata": {
    "colab": {
     "base_uri": "https://localhost:8080/",
     "height": 931
    },
    "id": "7_guY0MKWTb_",
    "outputId": "6d043859-522b-4f8f-896c-e31124d5ea9e"
   },
   "outputs": [
    {
     "data": {
      "text/plain": [
       "FL_DATE                      0\n",
       "OP_CARRIER                   0\n",
       "OP_CARRIER_FL_NUM            0\n",
       "ORIGIN                       0\n",
       "DEST                         0\n",
       "CRS_DEP_TIME                 0\n",
       "DEP_TIME                 91681\n",
       "DEP_DELAY                91681\n",
       "TAXI_OUT                 91681\n",
       "WHEELS_OFF               91681\n",
       "WHEELS_ON                91681\n",
       "TAXI_IN                  91681\n",
       "CRS_ARR_TIME                 0\n",
       "ARR_TIME                 91681\n",
       "ARR_DELAY               103578\n",
       "CANCELLED                    0\n",
       "CANCELLATION_CODE      6271207\n",
       "DIVERTED                     0\n",
       "CRS_ELAPSED_TIME             2\n",
       "ACTUAL_ELAPSED_TIME     103578\n",
       "AIR_TIME                103578\n",
       "DISTANCE                     0\n",
       "CARRIER_DELAY          5093611\n",
       "WEATHER_DELAY          5093611\n",
       "NAS_DELAY              5093611\n",
       "SECURITY_DELAY         5093611\n",
       "LATE_AIRCRAFT_DELAY    5093611\n",
       "dtype: int64"
      ]
     },
     "execution_count": 19,
     "metadata": {},
     "output_type": "execute_result"
    }
   ],
   "source": [
    "df_cleaned2.isnull().sum()"
   ]
  },
  {
   "cell_type": "markdown",
   "metadata": {
    "id": "J82X_YD4WTb_"
   },
   "source": [
    "We can notice that there are 2 cases in which 'CRS_ELAPSED_TIME' had a missing value. However, it is possible to calculate it by using columns 'CRS_ARR_TIME' and 'CRS_DEP_TIME' which have no missing values."
   ]
  },
  {
   "cell_type": "code",
   "execution_count": 20,
   "metadata": {
    "colab": {
     "base_uri": "https://localhost:8080/"
    },
    "id": "h5Y6uroBWTb_",
    "outputId": "cdb47cca-5426-4141-f406-9dcbbb66c102"
   },
   "outputs": [
    {
     "name": "stdout",
     "output_type": "stream",
     "text": [
      "        CRS_DEP_TIME CRS_ARR_TIME  CRS_ELAPSED_TIME\n",
      "1060780        12:25        14:02              <NA>\n",
      "5768226        14:28        16:20              <NA>\n"
     ]
    }
   ],
   "source": [
    "missing_crs_elapsed_time = df_cleaned2[df_cleaned2['CRS_ELAPSED_TIME'].isna()]\n",
    "\n",
    "\n",
    "print(missing_crs_elapsed_time[['CRS_DEP_TIME', 'CRS_ARR_TIME', 'CRS_ELAPSED_TIME']].head(2))"
   ]
  },
  {
   "cell_type": "markdown",
   "metadata": {
    "id": "AOW3-vU3WTcA"
   },
   "source": [
    "As we see, it is possible to calculate it but we would also need to consider timezone difference so let's check the whole rows."
   ]
  },
  {
   "cell_type": "code",
   "execution_count": 21,
   "metadata": {
    "colab": {
     "base_uri": "https://localhost:8080/"
    },
    "id": "I4jePyVXWTcA",
    "outputId": "108a42e7-7cfa-4606-83bf-0dce4c06cff8"
   },
   "outputs": [
    {
     "name": "stdout",
     "output_type": "stream",
     "text": [
      "            FL_DATE OP_CARRIER  OP_CARRIER_FL_NUM ORIGIN DEST CRS_DEP_TIME  \\\n",
      "1060780  2013-03-05         F9                533    MDW  DEN        12:25   \n",
      "5768226  2013-11-25         F9                233    BNA  DEN        14:28   \n",
      "\n",
      "        DEP_TIME  DEP_DELAY  TAXI_OUT WHEELS_OFF WHEELS_ON  TAXI_IN  \\\n",
      "1060780      NaT       <NA>      <NA>        NaT       NaT     <NA>   \n",
      "5768226      NaT       <NA>      <NA>        NaT       NaT     <NA>   \n",
      "\n",
      "        CRS_ARR_TIME ARR_TIME  ARR_DELAY  CANCELLED CANCELLATION_CODE  \\\n",
      "1060780        14:02      NaT       <NA>          1                 A   \n",
      "5768226        16:20      NaT       <NA>          1                 A   \n",
      "\n",
      "         DIVERTED  CRS_ELAPSED_TIME  ACTUAL_ELAPSED_TIME  AIR_TIME  DISTANCE  \\\n",
      "1060780         0              <NA>                 <NA>      <NA>       895   \n",
      "5768226         0              <NA>                 <NA>      <NA>      1014   \n",
      "\n",
      "         CARRIER_DELAY  WEATHER_DELAY  NAS_DELAY  SECURITY_DELAY  \\\n",
      "1060780           <NA>           <NA>       <NA>            <NA>   \n",
      "5768226           <NA>           <NA>       <NA>            <NA>   \n",
      "\n",
      "         LATE_AIRCRAFT_DELAY  \n",
      "1060780                 <NA>  \n",
      "5768226                 <NA>  \n"
     ]
    }
   ],
   "source": [
    "print(missing_crs_elapsed_time.head(2))"
   ]
  },
  {
   "cell_type": "markdown",
   "metadata": {
    "id": "3snh2xpSWTcA"
   },
   "source": [
    "The flights are from MDW to DEN and from BNA to DEN. So from Chicago to Denver and from Nashville to Denver. Chicago and Nashville are in the same timezone and Denver is 1 hour behind them. This means that the first flight's 'CRS_ELAPSED_TIME' should be 97 + 60 = 157 and the second flight's 'CRS_ELAPSED_TIME' should be 112 + 60 = 172. Let's manually insert those values."
   ]
  },
  {
   "cell_type": "code",
   "execution_count": 22,
   "metadata": {
    "colab": {
     "base_uri": "https://localhost:8080/"
    },
    "id": "NZeo-9PPWTcA",
    "outputId": "a3ccb82e-0729-48ca-b757-f42719133388"
   },
   "outputs": [
    {
     "name": "stdout",
     "output_type": "stream",
     "text": [
      "        CRS_DEP_TIME CRS_ARR_TIME  CRS_ELAPSED_TIME\n",
      "1060780        12:25        14:02               157\n",
      "5768226        14:28        16:20               172\n"
     ]
    }
   ],
   "source": [
    "df_cleaned2.loc[df_cleaned2.index == 1060780, 'CRS_ELAPSED_TIME'] = 157  # MDW to DEN\n",
    "df_cleaned2.loc[df_cleaned2.index == 5768226, 'CRS_ELAPSED_TIME'] = 172  # BNA to DEN\n",
    "\n",
    "\n",
    "print(df_cleaned2.loc[[1060780, 5768226], ['CRS_DEP_TIME', 'CRS_ARR_TIME', 'CRS_ELAPSED_TIME']]) # Checking if the missing values have been filled"
   ]
  },
  {
   "cell_type": "markdown",
   "metadata": {
    "id": "iWuRKpZUWTcB"
   },
   "source": [
    "This issue has now been resolved. Let's see if there are more problems within the data."
   ]
  },
  {
   "cell_type": "code",
   "execution_count": 23,
   "metadata": {
    "colab": {
     "base_uri": "https://localhost:8080/",
     "height": 931
    },
    "id": "eewTWe8SWTcB",
    "outputId": "d790136d-0727-4b31-c83a-58e6b8e64ddd"
   },
   "outputs": [
    {
     "data": {
      "text/plain": [
       "FL_DATE                      0\n",
       "OP_CARRIER                   0\n",
       "OP_CARRIER_FL_NUM            0\n",
       "ORIGIN                       0\n",
       "DEST                         0\n",
       "CRS_DEP_TIME                 0\n",
       "DEP_TIME                 91681\n",
       "DEP_DELAY                91681\n",
       "TAXI_OUT                 91681\n",
       "WHEELS_OFF               91681\n",
       "WHEELS_ON                91681\n",
       "TAXI_IN                  91681\n",
       "CRS_ARR_TIME                 0\n",
       "ARR_TIME                 91681\n",
       "ARR_DELAY               103578\n",
       "CANCELLED                    0\n",
       "CANCELLATION_CODE      6271207\n",
       "DIVERTED                     0\n",
       "CRS_ELAPSED_TIME             0\n",
       "ACTUAL_ELAPSED_TIME     103578\n",
       "AIR_TIME                103578\n",
       "DISTANCE                     0\n",
       "CARRIER_DELAY          5093611\n",
       "WEATHER_DELAY          5093611\n",
       "NAS_DELAY              5093611\n",
       "SECURITY_DELAY         5093611\n",
       "LATE_AIRCRAFT_DELAY    5093611\n",
       "dtype: int64"
      ]
     },
     "execution_count": 23,
     "metadata": {},
     "output_type": "execute_result"
    }
   ],
   "source": [
    "df_cleaned2.isnull().sum()"
   ]
  },
  {
   "cell_type": "markdown",
   "metadata": {
    "id": "DSbMUL8fWTcC"
   },
   "source": [
    "There are still couple problems within our data. At first, amount of missing values in 'ARR_DELAY' is not equal to amount of missing values in 'ARR_TIME'. Let's investigate."
   ]
  },
  {
   "cell_type": "code",
   "execution_count": 24,
   "metadata": {
    "colab": {
     "base_uri": "https://localhost:8080/"
    },
    "id": "VayYVt-tWTcC",
    "outputId": "536176f1-76e1-4282-abd3-45f302a902c3"
   },
   "outputs": [
    {
     "name": "stdout",
     "output_type": "stream",
     "text": [
      "         FL_DATE OP_CARRIER  OP_CARRIER_FL_NUM ORIGIN DEST CRS_DEP_TIME  \\\n",
      "231   2013-01-01         WN                113    MCO  LAS        07:50   \n",
      "846   2013-01-01         WN               3915    DEN  LAX        11:35   \n",
      "3149  2013-01-01         EV               3806    EWR  STL        14:59   \n",
      "3384  2013-01-01         EV               4333    EWR  TUL        19:30   \n",
      "3614  2013-01-01         EV               4542    IAH  HSV        10:53   \n",
      "3739  2013-01-01         EV               4627    CLE  DFW        12:13   \n",
      "3845  2013-01-01         EV               4703    IAH  BRO        21:00   \n",
      "4014  2013-01-01         EV               5425    ATL  CRW        12:06   \n",
      "4394  2013-01-01         EV               6128    ORD  CRW        13:08   \n",
      "4457  2013-01-01         EV               6066    DEN  ISN        10:23   \n",
      "\n",
      "     DEP_TIME  DEP_DELAY  TAXI_OUT WHEELS_OFF WHEELS_ON  TAXI_IN CRS_ARR_TIME  \\\n",
      "231     07:56          6         6      08:02     10:51        4        10:10   \n",
      "846     12:11         36        12      12:23     14:36       12        13:10   \n",
      "3149    15:28         29        30      15:58     19:57        5        16:47   \n",
      "3384    19:52         22        20      20:12     23:55        3        22:07   \n",
      "3614    10:47         -6        15      11:02     15:36        6        12:36   \n",
      "3739    12:47         34        30      13:17     20:51        7        14:19   \n",
      "3845    23:30        150         9      23:39     03:07        5        22:12   \n",
      "4014    13:31         85        16      13:47     19:11        8        13:26   \n",
      "4394    13:03         -5        12      13:15     18:32       12        15:35   \n",
      "4457    10:15         -8        31      10:46     15:15        5        13:17   \n",
      "\n",
      "     ARR_TIME  ARR_DELAY  CANCELLED CANCELLATION_CODE  DIVERTED  \\\n",
      "231     10:55       <NA>          0               NaN         1   \n",
      "846     14:48       <NA>          0               NaN         1   \n",
      "3149    20:02       <NA>          0               NaN         1   \n",
      "3384    23:58       <NA>          0               NaN         1   \n",
      "3614    15:42       <NA>          0               NaN         1   \n",
      "3739    20:58       <NA>          0               NaN         1   \n",
      "3845    03:12       <NA>          0               NaN         1   \n",
      "4014    19:19       <NA>          0               NaN         1   \n",
      "4394    18:44       <NA>          0               NaN         1   \n",
      "4457    15:20       <NA>          0               NaN         1   \n",
      "\n",
      "      CRS_ELAPSED_TIME  ACTUAL_ELAPSED_TIME  AIR_TIME  DISTANCE  \\\n",
      "231                320                 <NA>      <NA>      2039   \n",
      "846                155                 <NA>      <NA>       862   \n",
      "3149               168                 <NA>      <NA>       872   \n",
      "3384               217                 <NA>      <NA>      1215   \n",
      "3614               103                 <NA>      <NA>       595   \n",
      "3739               186                 <NA>      <NA>      1021   \n",
      "3845                72                 <NA>      <NA>       308   \n",
      "4014                80                 <NA>      <NA>       363   \n",
      "4394                87                 <NA>      <NA>       417   \n",
      "4457               114                 <NA>      <NA>       576   \n",
      "\n",
      "      CARRIER_DELAY  WEATHER_DELAY  NAS_DELAY  SECURITY_DELAY  \\\n",
      "231            <NA>           <NA>       <NA>            <NA>   \n",
      "846            <NA>           <NA>       <NA>            <NA>   \n",
      "3149           <NA>           <NA>       <NA>            <NA>   \n",
      "3384           <NA>           <NA>       <NA>            <NA>   \n",
      "3614           <NA>           <NA>       <NA>            <NA>   \n",
      "3739           <NA>           <NA>       <NA>            <NA>   \n",
      "3845           <NA>           <NA>       <NA>            <NA>   \n",
      "4014           <NA>           <NA>       <NA>            <NA>   \n",
      "4394           <NA>           <NA>       <NA>            <NA>   \n",
      "4457           <NA>           <NA>       <NA>            <NA>   \n",
      "\n",
      "      LATE_AIRCRAFT_DELAY  \n",
      "231                  <NA>  \n",
      "846                  <NA>  \n",
      "3149                 <NA>  \n",
      "3384                 <NA>  \n",
      "3614                 <NA>  \n",
      "3739                 <NA>  \n",
      "3845                 <NA>  \n",
      "4014                 <NA>  \n",
      "4394                 <NA>  \n",
      "4457                 <NA>  \n"
     ]
    }
   ],
   "source": [
    "filtered_df = df_cleaned2[df_cleaned2['ARR_TIME'].notna() & df_cleaned2['ARR_DELAY'].isna()] # Filtering rows where ARR_TIME is not missing, and ARR_DELAY is missing\n",
    "\n",
    "pd.set_option('display.max_columns', None)\n",
    "\n",
    "print(filtered_df.head(10)) # Showing the first 10 rows of the filtered DataFrame"
   ]
  },
  {
   "cell_type": "markdown",
   "metadata": {
    "id": "K0bOYFy3WTcC"
   },
   "source": [
    "We can fix those missing values by calculating them. We need to do that for 'ARR_DELAY', 'ACTUAL_ELAPSED_TIME' and 'AIR_TIME'."
   ]
  },
  {
   "cell_type": "code",
   "execution_count": 25,
   "metadata": {
    "colab": {
     "base_uri": "https://localhost:8080/"
    },
    "id": "gIufoqG1WTcD",
    "outputId": "b2683bf5-154f-4334-c7e7-d6dcfc49afd8"
   },
   "outputs": [
    {
     "name": "stdout",
     "output_type": "stream",
     "text": [
      "      FL_DATE OP_CARRIER  OP_CARRIER_FL_NUM ORIGIN DEST CRS_DEP_TIME DEP_TIME  \\\n",
      "0  2013-01-01         VX                108    LAX  IAD        07:00    07:00   \n",
      "1  2013-01-01         VX                114    LAX  IAD        22:05    22:04   \n",
      "2  2013-01-01         VX                 11    JFK  SFO        07:30    07:29   \n",
      "3  2013-01-01         VX                121    PHL  LAX        07:00    07:00   \n",
      "4  2013-01-01         VX                124    LAX  PHL        11:00    11:04   \n",
      "5  2013-01-01         VX                125    PHL  LAX        11:45    11:42   \n",
      "6  2013-01-01         VX                126    LAX  PHL        15:45    15:44   \n",
      "7  2013-01-01         VX                127    PHL  LAX        20:10    20:00   \n",
      "8  2013-01-01         VX                 12    SFO  JFK        07:00    06:58   \n",
      "9  2013-01-01         VX                130    LAX  PHL        21:40    21:39   \n",
      "\n",
      "   DEP_DELAY  TAXI_OUT WHEELS_OFF WHEELS_ON  TAXI_IN CRS_ARR_TIME ARR_TIME  \\\n",
      "0          0         8      07:08     14:11        7        14:45    14:18   \n",
      "1         -1        12      22:16     05:23       13        05:45    05:36   \n",
      "2         -1        18      07:47     10:43        6        11:15    10:49   \n",
      "3          0        14      07:14     10:06        8        10:00    10:14   \n",
      "4          4        12      11:16     18:28        9        19:15    18:37   \n",
      "5         -3        11      11:53     14:41        8        14:50    14:49   \n",
      "6         -1         8      15:52     23:03        6        23:55    23:09   \n",
      "7        -10        14      20:14     22:57       12        23:05    23:09   \n",
      "8         -2        16      07:14     15:09        8        15:35    15:17   \n",
      "9         -1         7      21:46     04:57       10        05:45    05:07   \n",
      "\n",
      "   ARR_DELAY  CANCELLED CANCELLATION_CODE  DIVERTED  CRS_ELAPSED_TIME  \\\n",
      "0        -27          0               NaN         0               285   \n",
      "1         -9          0               NaN         0               280   \n",
      "2        -26          0               NaN         0               405   \n",
      "3         14          0               NaN         0               360   \n",
      "4        -38          0               NaN         0               315   \n",
      "5         -1          0               NaN         0               365   \n",
      "6        -46          0               NaN         0               310   \n",
      "7          4          0               NaN         0               355   \n",
      "8        -18          0               NaN         0               335   \n",
      "9        -38          0               NaN         0               305   \n",
      "\n",
      "   ACTUAL_ELAPSED_TIME  AIR_TIME  DISTANCE  CARRIER_DELAY  WEATHER_DELAY  \\\n",
      "0                  258       243      2288           <NA>           <NA>   \n",
      "1                  272       247      2288           <NA>           <NA>   \n",
      "2                  380       356      2586           <NA>           <NA>   \n",
      "3                  374       352      2402           <NA>           <NA>   \n",
      "4                  273       252      2402           <NA>           <NA>   \n",
      "5                  367       348      2402           <NA>           <NA>   \n",
      "6                  265       251      2402           <NA>           <NA>   \n",
      "7                  369       343      2402           <NA>           <NA>   \n",
      "8                  319       295      2586           <NA>           <NA>   \n",
      "9                  268       251      2402           <NA>           <NA>   \n",
      "\n",
      "   NAS_DELAY  SECURITY_DELAY  LATE_AIRCRAFT_DELAY  \n",
      "0       <NA>            <NA>                 <NA>  \n",
      "1       <NA>            <NA>                 <NA>  \n",
      "2       <NA>            <NA>                 <NA>  \n",
      "3       <NA>            <NA>                 <NA>  \n",
      "4       <NA>            <NA>                 <NA>  \n",
      "5       <NA>            <NA>                 <NA>  \n",
      "6       <NA>            <NA>                 <NA>  \n",
      "7       <NA>            <NA>                 <NA>  \n",
      "8       <NA>            <NA>                 <NA>  \n",
      "9       <NA>            <NA>                 <NA>  \n"
     ]
    }
   ],
   "source": [
    "print(df_cleaned2.head(10))"
   ]
  },
  {
   "cell_type": "markdown",
   "metadata": {
    "id": "HpCxDZ9qWTcD"
   },
   "source": [
    "After reviewing the format from df_cleaned2, we can see that to calculate 'ARR_DELAY' by subtracting 'ARR_TIME' from 'CRS_ARR_TIME' and convert the result into minutes. We can calculate 'ACTUAL_ELAPSED_TIME' by adding 'ARR_DELAY' and 'CRS_ELAPSED_TIME'.  We can calculate 'AIR_TIME' by subtracting 'TAXI_IN' and 'TAXI_OUT' from 'ACTUAL_ELAPSED_TIME'. Let's fix this."
   ]
  },
  {
   "cell_type": "markdown",
   "metadata": {
    "id": "tlHiVtP8WTcD"
   },
   "source": [
    "Let's initialize filtered_df once again to not waste too much computation."
   ]
  },
  {
   "cell_type": "code",
   "execution_count": 26,
   "metadata": {
    "id": "Vh6DPhnkWTcD"
   },
   "outputs": [],
   "source": [
    "filtered_df2 = df_cleaned2[df_cleaned2['ARR_TIME'].notna() & df_cleaned2['ARR_DELAY'].isna()]"
   ]
  },
  {
   "cell_type": "markdown",
   "metadata": {
    "id": "phrQ9Ia1WTcE"
   },
   "source": [
    "Let's calculate 'ARR_DELAY'. Let's first find out how many minutes after midnight were 'ARR_TIME' and 'CRS_ARR_TIME'. Then find the difference in minutes. That way we would find 'ARR_DELAY' in minutes."
   ]
  },
  {
   "cell_type": "code",
   "execution_count": 27,
   "metadata": {
    "id": "E_Ll1IV0WTcE"
   },
   "outputs": [],
   "source": [
    "def time_to_minutes(time_str):\n",
    "    # Split the time string into hours and minutes\n",
    "    hours, minutes = map(int, time_str.split(':'))\n",
    "    # Return the total minutes after midnight\n",
    "    return hours * 60 + minutes\n"
   ]
  },
  {
   "cell_type": "code",
   "execution_count": 28,
   "metadata": {
    "colab": {
     "base_uri": "https://localhost:8080/"
    },
    "id": "i_Uw3q8RWTcE",
    "outputId": "3bae9e29-b624-435e-ab69-481907dd8a37"
   },
   "outputs": [
    {
     "name": "stdout",
     "output_type": "stream",
     "text": [
      "     ARR_TIME CRS_ARR_TIME  ARR_DELAY  ACTUAL_ELAPSED_TIME  AIR_TIME\n",
      "231     10:55        10:10         45                  365       355\n",
      "846     14:48        13:10         98                  253       229\n",
      "3149    20:02        16:47        195                  363       328\n",
      "3384    23:58        22:07        111                  328       305\n",
      "3614    15:42        12:36        186                  289       268\n",
      "3739    20:58        14:19        399                  585       548\n",
      "3845    03:12        22:12      -1140                -1068     -1082\n",
      "4014    19:19        13:26        353                  433       409\n",
      "4394    18:44        15:35        189                  276       252\n",
      "4457    15:20        13:17        123                  237       201\n",
      "5571    19:02        18:15         47                  187       164\n",
      "5881    12:54        09:15        219                  399       379\n",
      "6546    10:15        08:20        115                  225       207\n",
      "6647    19:34        18:05         89                  304       280\n",
      "6924    21:58        20:20         98                  313       283\n",
      "         FL_DATE OP_CARRIER  OP_CARRIER_FL_NUM ORIGIN DEST CRS_DEP_TIME  \\\n",
      "231   2013-01-01         WN                113    MCO  LAS        07:50   \n",
      "846   2013-01-01         WN               3915    DEN  LAX        11:35   \n",
      "3149  2013-01-01         EV               3806    EWR  STL        14:59   \n",
      "3384  2013-01-01         EV               4333    EWR  TUL        19:30   \n",
      "3614  2013-01-01         EV               4542    IAH  HSV        10:53   \n",
      "3739  2013-01-01         EV               4627    CLE  DFW        12:13   \n",
      "3845  2013-01-01         EV               4703    IAH  BRO        21:00   \n",
      "4014  2013-01-01         EV               5425    ATL  CRW        12:06   \n",
      "4394  2013-01-01         EV               6128    ORD  CRW        13:08   \n",
      "4457  2013-01-01         EV               6066    DEN  ISN        10:23   \n",
      "5571  2013-01-01         MQ               2927    CSG  DFW        16:55   \n",
      "5881  2013-01-01         MQ               2979    GRR  DFW        07:15   \n",
      "6546  2013-01-01         MQ               4560    DCA  BNA        07:30   \n",
      "6647  2013-01-01         MQ               4525    LGA  XNA        15:30   \n",
      "6924  2013-01-01         MQ               4413    LGA  XNA        17:45   \n",
      "\n",
      "     DEP_TIME  DEP_DELAY  TAXI_OUT WHEELS_OFF WHEELS_ON  TAXI_IN CRS_ARR_TIME  \\\n",
      "231     07:56          6         6      08:02     10:51        4        10:10   \n",
      "846     12:11         36        12      12:23     14:36       12        13:10   \n",
      "3149    15:28         29        30      15:58     19:57        5        16:47   \n",
      "3384    19:52         22        20      20:12     23:55        3        22:07   \n",
      "3614    10:47         -6        15      11:02     15:36        6        12:36   \n",
      "3739    12:47         34        30      13:17     20:51        7        14:19   \n",
      "3845    23:30        150         9      23:39     03:07        5        22:12   \n",
      "4014    13:31         85        16      13:47     19:11        8        13:26   \n",
      "4394    13:03         -5        12      13:15     18:32       12        15:35   \n",
      "4457    10:15         -8        31      10:46     15:15        5        13:17   \n",
      "5571    16:52         -3        13      17:05     18:52       10        18:15   \n",
      "5881    09:47        152        15      10:02     12:49        5        09:15   \n",
      "6546    07:24         -6        12      07:36     10:09        6        08:20   \n",
      "6647    15:25         -5        18      15:43     19:28        6        18:05   \n",
      "6924    17:40         -5        23      18:03     21:51        7        20:20   \n",
      "\n",
      "     ARR_TIME  ARR_DELAY  CANCELLED CANCELLATION_CODE  DIVERTED  \\\n",
      "231     10:55         45          0               NaN         1   \n",
      "846     14:48         98          0               NaN         1   \n",
      "3149    20:02        195          0               NaN         1   \n",
      "3384    23:58        111          0               NaN         1   \n",
      "3614    15:42        186          0               NaN         1   \n",
      "3739    20:58        399          0               NaN         1   \n",
      "3845    03:12      -1140          0               NaN         1   \n",
      "4014    19:19        353          0               NaN         1   \n",
      "4394    18:44        189          0               NaN         1   \n",
      "4457    15:20        123          0               NaN         1   \n",
      "5571    19:02         47          0               NaN         1   \n",
      "5881    12:54        219          0               NaN         1   \n",
      "6546    10:15        115          0               NaN         1   \n",
      "6647    19:34         89          0               NaN         1   \n",
      "6924    21:58         98          0               NaN         1   \n",
      "\n",
      "      CRS_ELAPSED_TIME  ACTUAL_ELAPSED_TIME  AIR_TIME  DISTANCE  \\\n",
      "231                320                  365       355      2039   \n",
      "846                155                  253       229       862   \n",
      "3149               168                  363       328       872   \n",
      "3384               217                  328       305      1215   \n",
      "3614               103                  289       268       595   \n",
      "3739               186                  585       548      1021   \n",
      "3845                72                -1068     -1082       308   \n",
      "4014                80                  433       409       363   \n",
      "4394                87                  276       252       417   \n",
      "4457               114                  237       201       576   \n",
      "5571               140                  187       164       705   \n",
      "5881               180                  399       379       931   \n",
      "6546               110                  225       207       562   \n",
      "6647               215                  304       280      1147   \n",
      "6924               215                  313       283      1147   \n",
      "\n",
      "      CARRIER_DELAY  WEATHER_DELAY  NAS_DELAY  SECURITY_DELAY  \\\n",
      "231            <NA>           <NA>       <NA>            <NA>   \n",
      "846            <NA>           <NA>       <NA>            <NA>   \n",
      "3149           <NA>           <NA>       <NA>            <NA>   \n",
      "3384           <NA>           <NA>       <NA>            <NA>   \n",
      "3614           <NA>           <NA>       <NA>            <NA>   \n",
      "3739           <NA>           <NA>       <NA>            <NA>   \n",
      "3845           <NA>           <NA>       <NA>            <NA>   \n",
      "4014           <NA>           <NA>       <NA>            <NA>   \n",
      "4394           <NA>           <NA>       <NA>            <NA>   \n",
      "4457           <NA>           <NA>       <NA>            <NA>   \n",
      "5571           <NA>           <NA>       <NA>            <NA>   \n",
      "5881           <NA>           <NA>       <NA>            <NA>   \n",
      "6546           <NA>           <NA>       <NA>            <NA>   \n",
      "6647           <NA>           <NA>       <NA>            <NA>   \n",
      "6924           <NA>           <NA>       <NA>            <NA>   \n",
      "\n",
      "      LATE_AIRCRAFT_DELAY  \n",
      "231                  <NA>  \n",
      "846                  <NA>  \n",
      "3149                 <NA>  \n",
      "3384                 <NA>  \n",
      "3614                 <NA>  \n",
      "3739                 <NA>  \n",
      "3845                 <NA>  \n",
      "4014                 <NA>  \n",
      "4394                 <NA>  \n",
      "4457                 <NA>  \n",
      "5571                 <NA>  \n",
      "5881                 <NA>  \n",
      "6546                 <NA>  \n",
      "6647                 <NA>  \n",
      "6924                 <NA>  \n"
     ]
    }
   ],
   "source": [
    "# Creating a copy of filtered_df2 to avoid SettingWithCopyWarning\n",
    "filtered_df2_copy = filtered_df2.copy()\n",
    "\n",
    "# Applying the function to 'ARR_TIME' and 'CRS_ARR_TIME' on the copied DataFrame\n",
    "filtered_df2_copy['ARR_TIME_minutes'] = filtered_df2_copy['ARR_TIME'].apply(time_to_minutes)\n",
    "filtered_df2_copy['CRS_ARR_TIME_minutes'] = filtered_df2_copy['CRS_ARR_TIME'].apply(time_to_minutes)\n",
    "\n",
    "# Calculating 'ARR_DELAY' as the difference between 'ARR_TIME' and 'CRS_ARR_TIME'\n",
    "filtered_df2_copy['ARR_DELAY'] = filtered_df2_copy['ARR_TIME_minutes'] - filtered_df2_copy['CRS_ARR_TIME_minutes']\n",
    "\n",
    "# Calculating 'ACTUAL_ELAPSED_TIME' by adding 'ARR_DELAY' to 'CRS_ELAPSED_TIME'\n",
    "filtered_df2_copy['ACTUAL_ELAPSED_TIME'] = filtered_df2_copy['ARR_DELAY'] + filtered_df2_copy['CRS_ELAPSED_TIME']\n",
    "\n",
    "# Calculating 'AIR_TIME' by subtracting 'TAXI_IN' and 'TAXI_OUT' from 'ACTUAL_ELAPSED_TIME'\n",
    "filtered_df2_copy['AIR_TIME'] = filtered_df2_copy['ACTUAL_ELAPSED_TIME'] - filtered_df2_copy['TAXI_IN'] - filtered_df2_copy['TAXI_OUT']\n",
    "\n",
    "# Dropping the temporary columns 'ARR_TIME_minutes' and 'CRS_ARR_TIME_minutes'\n",
    "filtered_df2_copy.drop(['ARR_TIME_minutes', 'CRS_ARR_TIME_minutes'], axis=1, inplace=True)\n",
    "\n",
    "\n",
    "print(filtered_df2_copy[['ARR_TIME', 'CRS_ARR_TIME', 'ARR_DELAY', 'ACTUAL_ELAPSED_TIME', 'AIR_TIME']].head(15))\n",
    "print(filtered_df2_copy.head(15))\n"
   ]
  },
  {
   "cell_type": "markdown",
   "metadata": {
    "id": "qFTf6WXWWTcE"
   },
   "source": [
    "As visible from row with index 3845, this solution does not account for the cases in which plane arrived after midnight but was scheduled to arrive before midnight. After having a look on the data, it can be concluded that investigating those anomalies is tricky. One way is to determine from whole data how long the longest flights in the dataset took. Let's take a look at the most extreme 'CRS_ELAPSED_TIME' and 'ACTUAL_ELAPSED_TIME' values."
   ]
  },
  {
   "cell_type": "code",
   "execution_count": 29,
   "metadata": {
    "colab": {
     "base_uri": "https://localhost:8080/"
    },
    "id": "S2f8xr5uWTcE",
    "outputId": "55cd5e36-426e-4002-c268-29ea84a3d9bb"
   },
   "outputs": [
    {
     "name": "stdout",
     "output_type": "stream",
     "text": [
      "            FL_DATE OP_CARRIER  OP_CARRIER_FL_NUM  CRS_ELAPSED_TIME ARR_TIME  \\\n",
      "835400   2013-02-20         HA                 51               700    15:10   \n",
      "1131928  2013-03-09         HA                 51               700    15:07   \n",
      "634925   2013-02-08         HA                 51               700    15:01   \n",
      "669520   2013-02-10         HA                 51               700    14:40   \n",
      "810081   2013-02-19         HA                 51               700    14:57   \n",
      "542552   2013-02-03         HA                 51               700    14:46   \n",
      "608564   2013-02-07         HA                 51               700    15:28   \n",
      "1096659  2013-03-07         HA                 51               700    15:11   \n",
      "912962   2013-02-25         HA                 51               700    14:47   \n",
      "567404   2013-02-04         HA                 51               700    15:21   \n",
      "876046   2013-02-22         HA                 51               700    14:36   \n",
      "942241   2013-02-26         HA                 51               700    15:13   \n",
      "1024191  2013-03-03         HA                 51               700    15:19   \n",
      "903568   2013-02-24         HA                 51               700    15:07   \n",
      "539566   2013-02-02         HA                 51               700    14:40   \n",
      "880570   2013-02-23         HA                 51               700    17:46   \n",
      "774332   2013-02-17         HA                 51               700    14:44   \n",
      "1038257  2013-03-04         HA                 51               700    15:41   \n",
      "698515   2013-02-12         HA                 51               700    14:41   \n",
      "1061074  2013-03-05         HA                 51               700    15:09   \n",
      "\n",
      "        CRS_ARR_TIME  \n",
      "835400         15:40  \n",
      "1131928        15:40  \n",
      "634925         15:40  \n",
      "669520         15:40  \n",
      "810081         15:40  \n",
      "542552         15:40  \n",
      "608564         15:40  \n",
      "1096659        15:40  \n",
      "912962         15:40  \n",
      "567404         15:40  \n",
      "876046         15:40  \n",
      "942241         15:40  \n",
      "1024191        15:40  \n",
      "903568         15:40  \n",
      "539566         15:40  \n",
      "880570         15:40  \n",
      "774332         15:40  \n",
      "1038257        15:40  \n",
      "698515         15:40  \n",
      "1061074        15:40  \n"
     ]
    }
   ],
   "source": [
    "# Sorting the dataframe by 'CRS_ELAPSED_TIME' in descending order\n",
    "max_elapsed_time_row = df_cleaned2.sort_values(by='CRS_ELAPSED_TIME', ascending=False).head(20)\n",
    "\n",
    "# Display the row with the maximum elapsed time\n",
    "print(max_elapsed_time_row[['FL_DATE', 'OP_CARRIER', 'OP_CARRIER_FL_NUM', 'CRS_ELAPSED_TIME', 'ARR_TIME', 'CRS_ARR_TIME']])\n"
   ]
  },
  {
   "cell_type": "code",
   "execution_count": 30,
   "metadata": {
    "colab": {
     "base_uri": "https://localhost:8080/"
    },
    "id": "JPqzgXYvWTcE",
    "outputId": "d6bc1f65-a3f4-48ac-d6de-1fa3e99df258"
   },
   "outputs": [
    {
     "name": "stdout",
     "output_type": "stream",
     "text": [
      "            FL_DATE OP_CARRIER  OP_CARRIER_FL_NUM  ACTUAL_ELAPSED_TIME  \\\n",
      "6012182  2013-12-10         UA                 15                  738   \n",
      "2471197  2013-05-23         UA                 15                  726   \n",
      "1275325  2013-03-17         HA                 51                  721   \n",
      "1278817  2013-03-17         UA                 15                  720   \n",
      "575295   2013-02-05         HA                 51                  715   \n",
      "5539159  2013-11-12         UA                 15                  714   \n",
      "1241064  2013-03-15         HA                 51                  710   \n",
      "605133   2013-02-06         HA                 51                  709   \n",
      "5931952  2013-12-05         HA                 51                  709   \n",
      "2929996  2013-06-18         UA                 15                  709   \n",
      "1219119  2013-03-14         HA                 51                  704   \n",
      "1253037  2013-03-16         HA                 51                  703   \n",
      "1250025  2013-03-16         UA                 15                  702   \n",
      "1244536  2013-03-15         UA                 15                  702   \n",
      "143930   2013-01-09         UA                 15                  699   \n",
      "407813   2013-01-25         UA                 15                  699   \n",
      "5553459  2013-11-12         HA                 51                  699   \n",
      "1561851  2013-04-02         UA                 15                  698   \n",
      "1578269  2013-04-03         HA                 51                  698   \n",
      "1705788  2013-04-10         UA                 15                  697   \n",
      "\n",
      "        ARR_TIME CRS_ARR_TIME  \n",
      "6012182    17:32        15:27  \n",
      "2471197    19:33        18:11  \n",
      "1275325    16:07        15:30  \n",
      "1278817    19:37        18:36  \n",
      "575295     15:55        15:40  \n",
      "5539159    16:30        15:30  \n",
      "1241064    15:51        15:30  \n",
      "605133     15:42        15:40  \n",
      "5931952    16:09        15:35  \n",
      "2929996    19:20        18:11  \n",
      "1219119    15:42        15:30  \n",
      "1253037    15:44        15:30  \n",
      "1250025    19:13        18:36  \n",
      "1244536    19:24        18:36  \n",
      "143930     20:19        19:35  \n",
      "407813     00:34        19:35  \n",
      "5553459    16:34        15:55  \n",
      "1561851    21:50        18:26  \n",
      "1578269    15:35        15:10  \n",
      "1705788    20:08        18:15  \n"
     ]
    }
   ],
   "source": [
    "# Sorting the dataframe by 'ACTUAL_ELAPSED_TIME' in descending order\n",
    "max_elapsed_time_row = df_cleaned2.sort_values(by='ACTUAL_ELAPSED_TIME', ascending=False).head(20)\n",
    "\n",
    "\n",
    "print(max_elapsed_time_row[['FL_DATE', 'OP_CARRIER', 'OP_CARRIER_FL_NUM', 'ACTUAL_ELAPSED_TIME', 'ARR_TIME', 'CRS_ARR_TIME']])"
   ]
  },
  {
   "cell_type": "markdown",
   "metadata": {
    "id": "ZTX-NJskWTcG"
   },
   "source": [
    "By estimating that flights that are going to be seen as an anomaly won't take over 12 hours (720 minutes) it is possible to classify a case as an anomaly (the flight was supposed to land before midnight but landed after midnight) if 'CRS_ARR_TIME' is from 12:00 to 23:59 and if 'ARR_TIME' is from 00:00 to 11:59. If both of those conditions are true then we should deal by calculating 'ARR_DELAY' in a different way."
   ]
  },
  {
   "cell_type": "code",
   "execution_count": 31,
   "metadata": {
    "colab": {
     "base_uri": "https://localhost:8080/"
    },
    "id": "Eaw_Ve0ZWTcG",
    "outputId": "58908f82-d565-4ad9-97e1-c2b053f92bf8"
   },
   "outputs": [
    {
     "name": "stdout",
     "output_type": "stream",
     "text": [
      "     ARR_TIME CRS_ARR_TIME  ARR_DELAY  ACTUAL_ELAPSED_TIME  AIR_TIME\n",
      "231     10:55        10:10         45                  365       355\n",
      "846     14:48        13:10         98                  253       229\n",
      "3149    20:02        16:47        195                  363       328\n",
      "3384    23:58        22:07        111                  328       305\n",
      "3614    15:42        12:36        186                  289       268\n",
      "3739    20:58        14:19        399                  585       548\n",
      "3845    03:12        22:12        300                  372       358\n",
      "4014    19:19        13:26        353                  433       409\n",
      "4394    18:44        15:35        189                  276       252\n",
      "4457    15:20        13:17        123                  237       201\n",
      "5571    19:02        18:15         47                  187       164\n",
      "5881    12:54        09:15        219                  399       379\n",
      "6546    10:15        08:20        115                  225       207\n",
      "6647    19:34        18:05         89                  304       280\n",
      "6924    21:58        20:20         98                  313       283\n",
      "         FL_DATE OP_CARRIER  OP_CARRIER_FL_NUM ORIGIN DEST CRS_DEP_TIME  \\\n",
      "231   2013-01-01         WN                113    MCO  LAS        07:50   \n",
      "846   2013-01-01         WN               3915    DEN  LAX        11:35   \n",
      "3149  2013-01-01         EV               3806    EWR  STL        14:59   \n",
      "3384  2013-01-01         EV               4333    EWR  TUL        19:30   \n",
      "3614  2013-01-01         EV               4542    IAH  HSV        10:53   \n",
      "3739  2013-01-01         EV               4627    CLE  DFW        12:13   \n",
      "3845  2013-01-01         EV               4703    IAH  BRO        21:00   \n",
      "4014  2013-01-01         EV               5425    ATL  CRW        12:06   \n",
      "4394  2013-01-01         EV               6128    ORD  CRW        13:08   \n",
      "4457  2013-01-01         EV               6066    DEN  ISN        10:23   \n",
      "5571  2013-01-01         MQ               2927    CSG  DFW        16:55   \n",
      "5881  2013-01-01         MQ               2979    GRR  DFW        07:15   \n",
      "6546  2013-01-01         MQ               4560    DCA  BNA        07:30   \n",
      "6647  2013-01-01         MQ               4525    LGA  XNA        15:30   \n",
      "6924  2013-01-01         MQ               4413    LGA  XNA        17:45   \n",
      "\n",
      "     DEP_TIME  DEP_DELAY  TAXI_OUT WHEELS_OFF WHEELS_ON  TAXI_IN CRS_ARR_TIME  \\\n",
      "231     07:56          6         6      08:02     10:51        4        10:10   \n",
      "846     12:11         36        12      12:23     14:36       12        13:10   \n",
      "3149    15:28         29        30      15:58     19:57        5        16:47   \n",
      "3384    19:52         22        20      20:12     23:55        3        22:07   \n",
      "3614    10:47         -6        15      11:02     15:36        6        12:36   \n",
      "3739    12:47         34        30      13:17     20:51        7        14:19   \n",
      "3845    23:30        150         9      23:39     03:07        5        22:12   \n",
      "4014    13:31         85        16      13:47     19:11        8        13:26   \n",
      "4394    13:03         -5        12      13:15     18:32       12        15:35   \n",
      "4457    10:15         -8        31      10:46     15:15        5        13:17   \n",
      "5571    16:52         -3        13      17:05     18:52       10        18:15   \n",
      "5881    09:47        152        15      10:02     12:49        5        09:15   \n",
      "6546    07:24         -6        12      07:36     10:09        6        08:20   \n",
      "6647    15:25         -5        18      15:43     19:28        6        18:05   \n",
      "6924    17:40         -5        23      18:03     21:51        7        20:20   \n",
      "\n",
      "     ARR_TIME  ARR_DELAY  CANCELLED CANCELLATION_CODE  DIVERTED  \\\n",
      "231     10:55         45          0               NaN         1   \n",
      "846     14:48         98          0               NaN         1   \n",
      "3149    20:02        195          0               NaN         1   \n",
      "3384    23:58        111          0               NaN         1   \n",
      "3614    15:42        186          0               NaN         1   \n",
      "3739    20:58        399          0               NaN         1   \n",
      "3845    03:12        300          0               NaN         1   \n",
      "4014    19:19        353          0               NaN         1   \n",
      "4394    18:44        189          0               NaN         1   \n",
      "4457    15:20        123          0               NaN         1   \n",
      "5571    19:02         47          0               NaN         1   \n",
      "5881    12:54        219          0               NaN         1   \n",
      "6546    10:15        115          0               NaN         1   \n",
      "6647    19:34         89          0               NaN         1   \n",
      "6924    21:58         98          0               NaN         1   \n",
      "\n",
      "      CRS_ELAPSED_TIME  ACTUAL_ELAPSED_TIME  AIR_TIME  DISTANCE  \\\n",
      "231                320                  365       355      2039   \n",
      "846                155                  253       229       862   \n",
      "3149               168                  363       328       872   \n",
      "3384               217                  328       305      1215   \n",
      "3614               103                  289       268       595   \n",
      "3739               186                  585       548      1021   \n",
      "3845                72                  372       358       308   \n",
      "4014                80                  433       409       363   \n",
      "4394                87                  276       252       417   \n",
      "4457               114                  237       201       576   \n",
      "5571               140                  187       164       705   \n",
      "5881               180                  399       379       931   \n",
      "6546               110                  225       207       562   \n",
      "6647               215                  304       280      1147   \n",
      "6924               215                  313       283      1147   \n",
      "\n",
      "      CARRIER_DELAY  WEATHER_DELAY  NAS_DELAY  SECURITY_DELAY  \\\n",
      "231            <NA>           <NA>       <NA>            <NA>   \n",
      "846            <NA>           <NA>       <NA>            <NA>   \n",
      "3149           <NA>           <NA>       <NA>            <NA>   \n",
      "3384           <NA>           <NA>       <NA>            <NA>   \n",
      "3614           <NA>           <NA>       <NA>            <NA>   \n",
      "3739           <NA>           <NA>       <NA>            <NA>   \n",
      "3845           <NA>           <NA>       <NA>            <NA>   \n",
      "4014           <NA>           <NA>       <NA>            <NA>   \n",
      "4394           <NA>           <NA>       <NA>            <NA>   \n",
      "4457           <NA>           <NA>       <NA>            <NA>   \n",
      "5571           <NA>           <NA>       <NA>            <NA>   \n",
      "5881           <NA>           <NA>       <NA>            <NA>   \n",
      "6546           <NA>           <NA>       <NA>            <NA>   \n",
      "6647           <NA>           <NA>       <NA>            <NA>   \n",
      "6924           <NA>           <NA>       <NA>            <NA>   \n",
      "\n",
      "      LATE_AIRCRAFT_DELAY  \n",
      "231                  <NA>  \n",
      "846                  <NA>  \n",
      "3149                 <NA>  \n",
      "3384                 <NA>  \n",
      "3614                 <NA>  \n",
      "3739                 <NA>  \n",
      "3845                 <NA>  \n",
      "4014                 <NA>  \n",
      "4394                 <NA>  \n",
      "4457                 <NA>  \n",
      "5571                 <NA>  \n",
      "5881                 <NA>  \n",
      "6546                 <NA>  \n",
      "6647                 <NA>  \n",
      "6924                 <NA>  \n"
     ]
    }
   ],
   "source": [
    "filtered_df2_copy['ARR_TIME_minutes'] = filtered_df2_copy['ARR_TIME'].apply(time_to_minutes)\n",
    "filtered_df2_copy['CRS_ARR_TIME_minutes'] = filtered_df2_copy['CRS_ARR_TIME'].apply(time_to_minutes)\n",
    "\n",
    "# Identifying rows with anomaly conditions\n",
    "anomalies = (filtered_df2_copy['CRS_ARR_TIME_minutes'] >= 720) & (filtered_df2_copy['ARR_TIME_minutes'] < 720)\n",
    "\n",
    "# Adding 1440 minutes to 'ARR_TIME_minutes' for anomalies (arrived after midnight but was not supposed to)\n",
    "filtered_df2_copy.loc[anomalies, 'ARR_TIME_minutes'] += 1440\n",
    "\n",
    "# Recalculating 'ARR_DELAY' as the difference between 'ARR_TIME' and 'CRS_ARR_TIME'\n",
    "filtered_df2_copy['ARR_DELAY'] = filtered_df2_copy['ARR_TIME_minutes'] - filtered_df2_copy['CRS_ARR_TIME_minutes']\n",
    "\n",
    "# Recalculating 'ACTUAL_ELAPSED_TIME' by adding 'ARR_DELAY' to 'CRS_ELAPSED_TIME'\n",
    "filtered_df2_copy['ACTUAL_ELAPSED_TIME'] = filtered_df2_copy['ARR_DELAY'] + filtered_df2_copy['CRS_ELAPSED_TIME']\n",
    "\n",
    "# Recalculating 'AIR_TIME' by subtracting 'TAXI_IN' and 'TAXI_OUT' from 'ACTUAL_ELAPSED_TIME'\n",
    "filtered_df2_copy['AIR_TIME'] = filtered_df2_copy['ACTUAL_ELAPSED_TIME'] - filtered_df2_copy['TAXI_IN'] - filtered_df2_copy['TAXI_OUT']\n",
    "\n",
    "# Dropping the temporary columns 'ARR_TIME_minutes' and 'CRS_ARR_TIME_minutes'\n",
    "filtered_df2_copy.drop(['ARR_TIME_minutes', 'CRS_ARR_TIME_minutes'], axis=1, inplace=True)\n",
    "\n",
    "# Print the updated dataframe with the calculated columns\n",
    "print(filtered_df2_copy[['ARR_TIME', 'CRS_ARR_TIME', 'ARR_DELAY', 'ACTUAL_ELAPSED_TIME', 'AIR_TIME']].head(15))\n",
    "print(filtered_df2_copy.head(15))"
   ]
  },
  {
   "cell_type": "markdown",
   "metadata": {
    "id": "qVNuls1MWTcG"
   },
   "source": [
    "Now we will apply the changes to the dataset we want to continue working with (df_cleaned2)."
   ]
  },
  {
   "cell_type": "code",
   "execution_count": 32,
   "metadata": {
    "colab": {
     "base_uri": "https://localhost:8080/"
    },
    "id": "PHibBqY6WTcG",
    "outputId": "4cf12194-936e-4153-c14a-41efa7895db8"
   },
   "outputs": [
    {
     "name": "stdout",
     "output_type": "stream",
     "text": [
      "    ARR_DELAY  ACTUAL_ELAPSED_TIME  AIR_TIME\n",
      "0         -27                  258       243\n",
      "1          -9                  272       247\n",
      "2         -26                  380       356\n",
      "3          14                  374       352\n",
      "4         -38                  273       252\n",
      "5          -1                  367       348\n",
      "6         -46                  265       251\n",
      "7           4                  369       343\n",
      "8         -18                  319       295\n",
      "9         -38                  268       251\n",
      "10        -43                  280       266\n",
      "11        -19                  371       348\n",
      "12         -2                  316       292\n",
      "13        -15                  373       357\n",
      "14         -8                  381       361\n",
      "FL_DATE                2013-01-01\n",
      "OP_CARRIER                     EV\n",
      "OP_CARRIER_FL_NUM            4703\n",
      "ORIGIN                        IAH\n",
      "DEST                          BRO\n",
      "CRS_DEP_TIME                21:00\n",
      "DEP_TIME                    23:30\n",
      "DEP_DELAY                     150\n",
      "TAXI_OUT                        9\n",
      "WHEELS_OFF                  23:39\n",
      "WHEELS_ON                   03:07\n",
      "TAXI_IN                         5\n",
      "CRS_ARR_TIME                22:12\n",
      "ARR_TIME                    03:12\n",
      "ARR_DELAY                     300\n",
      "CANCELLED                       0\n",
      "CANCELLATION_CODE             NaN\n",
      "DIVERTED                        1\n",
      "CRS_ELAPSED_TIME               72\n",
      "ACTUAL_ELAPSED_TIME           372\n",
      "AIR_TIME                      358\n",
      "DISTANCE                      308\n",
      "CARRIER_DELAY                <NA>\n",
      "WEATHER_DELAY                <NA>\n",
      "NAS_DELAY                    <NA>\n",
      "SECURITY_DELAY               <NA>\n",
      "LATE_AIRCRAFT_DELAY          <NA>\n",
      "Name: 3845, dtype: object\n"
     ]
    }
   ],
   "source": [
    "# Using .loc[] to ensure we are modifying the original DataFrame correctly\n",
    "df_cleaned2.loc[df_cleaned2['ARR_DELAY'].isna(), 'ARR_DELAY'] = filtered_df2_copy['ARR_DELAY']\n",
    "df_cleaned2.loc[df_cleaned2['ACTUAL_ELAPSED_TIME'].isna(), 'ACTUAL_ELAPSED_TIME'] = filtered_df2_copy['ACTUAL_ELAPSED_TIME']\n",
    "df_cleaned2.loc[df_cleaned2['AIR_TIME'].isna(), 'AIR_TIME'] = filtered_df2_copy['AIR_TIME']\n",
    "\n",
    "# Checking if it worked\n",
    "print(df_cleaned2[['ARR_DELAY', 'ACTUAL_ELAPSED_TIME', 'AIR_TIME']].head(15))\n",
    "print(df_cleaned2.loc[3845])\n"
   ]
  },
  {
   "cell_type": "markdown",
   "metadata": {
    "id": "9xSMtazhWTcG"
   },
   "source": [
    "Now there are only few things left to check - whether amount of missing values in 'CANCELLATION_CODE' makes sense and whether the amounts of missing values in 'CARRIER_DELAY',\n",
    "'WEATHER_DELAY', 'NAS_DELAY', 'SECURITY_DELAY' and 'LATE_AIRCRAFT_DELAY' make sense."
   ]
  },
  {
   "cell_type": "code",
   "execution_count": 33,
   "metadata": {
    "colab": {
     "base_uri": "https://localhost:8080/",
     "height": 931
    },
    "id": "i5NVPsaRWTcG",
    "outputId": "8f706e1e-622f-4886-8bc4-fa5c2b88193e"
   },
   "outputs": [
    {
     "data": {
      "text/plain": [
       "FL_DATE                      0\n",
       "OP_CARRIER                   0\n",
       "OP_CARRIER_FL_NUM            0\n",
       "ORIGIN                       0\n",
       "DEST                         0\n",
       "CRS_DEP_TIME                 0\n",
       "DEP_TIME                 91681\n",
       "DEP_DELAY                91681\n",
       "TAXI_OUT                 91681\n",
       "WHEELS_OFF               91681\n",
       "WHEELS_ON                91681\n",
       "TAXI_IN                  91681\n",
       "CRS_ARR_TIME                 0\n",
       "ARR_TIME                 91681\n",
       "ARR_DELAY                91681\n",
       "CANCELLED                    0\n",
       "CANCELLATION_CODE      6271207\n",
       "DIVERTED                     0\n",
       "CRS_ELAPSED_TIME             0\n",
       "ACTUAL_ELAPSED_TIME      91681\n",
       "AIR_TIME                 91681\n",
       "DISTANCE                     0\n",
       "CARRIER_DELAY          5093611\n",
       "WEATHER_DELAY          5093611\n",
       "NAS_DELAY              5093611\n",
       "SECURITY_DELAY         5093611\n",
       "LATE_AIRCRAFT_DELAY    5093611\n",
       "dtype: int64"
      ]
     },
     "execution_count": 33,
     "metadata": {},
     "output_type": "execute_result"
    }
   ],
   "source": [
    "df_cleaned2.isnull().sum()"
   ]
  },
  {
   "cell_type": "code",
   "execution_count": 34,
   "metadata": {
    "colab": {
     "base_uri": "https://localhost:8080/"
    },
    "id": "nsb1TDzQWTcG",
    "outputId": "72cb1929-5f3d-4518-cc53-250dba81849b"
   },
   "outputs": [
    {
     "name": "stdout",
     "output_type": "stream",
     "text": [
      "Number of instances where CANCELLED == 0: 6271207\n"
     ]
    }
   ],
   "source": [
    "# Counting how many times a flight was not cancelled\n",
    "cancelled_count = df_cleaned2[df_cleaned2['CANCELLED'] == 0].shape[0]\n",
    "\n",
    "print(f'Number of instances where CANCELLED == 0: {cancelled_count}')\n"
   ]
  },
  {
   "cell_type": "markdown",
   "metadata": {
    "id": "QBJdjgwSWTcI"
   },
   "source": [
    "For the last 5 columns, values seem to be missing randomly. Ideally, only 91681 values should be missing there but there are 5093611 values missing. As investigating common causes of delays and their average durations can be done separately, we will not remove from df_cleaned2 those 5093611 - 91681 = 5001930 values."
   ]
  },
  {
   "cell_type": "code",
   "execution_count": 35,
   "metadata": {
    "colab": {
     "base_uri": "https://localhost:8080/",
     "height": 71
    },
    "id": "ZAJRruUlWTcI",
    "outputId": "17251799-58b4-4a84-aa3b-25989d67a0c7"
   },
   "outputs": [
    {
     "data": {
      "text/plain": [
       "\"\\n# Explore data :DDDDDDDDD\\n# yes\\nmean_arr_delay = df['ARR_DELAY'].mean()\\nprint(mean_arr_delay)\\n\\naverage_planned_flight_time = df['CRS_ELAPSED_TIME'].mean()\\nprint(average_planned_flight_time)\\n\\naverage_flight_time = df['ACTUAL_ELAPSED_TIME'].mean()\\nprint(average_flight_time)\\n\\naverage_distance = df['DISTANCE'].mean()\\nprint(average_distance)\\ndf['ARR_DELAY'].describe()\\n\""
      ]
     },
     "execution_count": 35,
     "metadata": {},
     "output_type": "execute_result"
    }
   ],
   "source": [
    "'''\n",
    "# Explore data :DDDDDDDDD\n",
    "# yes\n",
    "mean_arr_delay = df['ARR_DELAY'].mean()\n",
    "print(mean_arr_delay)\n",
    "\n",
    "average_planned_flight_time = df['CRS_ELAPSED_TIME'].mean()\n",
    "print(average_planned_flight_time)\n",
    "\n",
    "average_flight_time = df['ACTUAL_ELAPSED_TIME'].mean()\n",
    "print(average_flight_time)\n",
    "\n",
    "average_distance = df['DISTANCE'].mean()\n",
    "print(average_distance)\n",
    "df['ARR_DELAY'].describe()\n",
    "'''"
   ]
  },
  {
   "cell_type": "code",
   "execution_count": 36,
   "metadata": {
    "colab": {
     "base_uri": "https://localhost:8080/",
     "height": 107
    },
    "id": "7LHwXRt4WTcI",
    "outputId": "a0d6e78a-ebe4-41b1-8b2f-9494778e1e8a"
   },
   "outputs": [
    {
     "data": {
      "text/plain": [
       "\"\\nimport seaborn as sns\\nimport matplotlib.pyplot as plt\\n\\n# Mapping dictionary for cancellation codes\\ncancellation_map = {\\n    'A': 'Airline/Carrier',\\n    'B': 'Weather',\\n    'C': 'National Air System',\\n    'D': 'Security'\\n}\\n\\n# Count the occurrences of each cancellation code\\ncancellation_counts = df['CANCELLATION_CODE'].value_counts()\\n\\n# Create a bar plot with mapped labels\\nplt.figure(figsize=(10, 6))\\nsns.barplot(\\n    x=cancellation_counts.index.map(cancellation_map),\\n    y=cancellation_counts.values\\n)\\nplt.title('Cancellation Codes Frequency')\\nplt.xlabel('Cancellation Reason')\\nplt.ylabel('Count')\\nplt.xticks(rotation=45)\\nplt.tight_layout()\\nplt.show()\\n\""
      ]
     },
     "execution_count": 36,
     "metadata": {},
     "output_type": "execute_result"
    }
   ],
   "source": [
    "'''\n",
    "import seaborn as sns\n",
    "import matplotlib.pyplot as plt\n",
    "\n",
    "# Mapping dictionary for cancellation codes\n",
    "cancellation_map = {\n",
    "    'A': 'Airline/Carrier',\n",
    "    'B': 'Weather',\n",
    "    'C': 'National Air System',\n",
    "    'D': 'Security'\n",
    "}\n",
    "\n",
    "# Count the occurrences of each cancellation code\n",
    "cancellation_counts = df['CANCELLATION_CODE'].value_counts()\n",
    "\n",
    "# Create a bar plot with mapped labels\n",
    "plt.figure(figsize=(10, 6))\n",
    "sns.barplot(\n",
    "    x=cancellation_counts.index.map(cancellation_map),\n",
    "    y=cancellation_counts.values\n",
    ")\n",
    "plt.title('Cancellation Codes Frequency')\n",
    "plt.xlabel('Cancellation Reason')\n",
    "plt.ylabel('Count')\n",
    "plt.xticks(rotation=45)\n",
    "plt.tight_layout()\n",
    "plt.show()\n",
    "'''"
   ]
  },
  {
   "cell_type": "code",
   "execution_count": 37,
   "metadata": {
    "colab": {
     "base_uri": "https://localhost:8080/",
     "height": 53
    },
    "id": "VyEq2spSWTcI",
    "outputId": "ff8d176e-de1e-4f0f-a474-b55994f1fd06"
   },
   "outputs": [
    {
     "data": {
      "text/plain": [
       "\"\\n# Correlation between different types of delays\\ndelay_columns = ['DEP_DELAY', 'ARR_DELAY', 'WEATHER_DELAY', 'NAS_DELAY', 'CARRIER_DELAY', 'SECURITY_DELAY', 'LATE_AIRCRAFT_DELAY']\\ndelay_correlation = df[delay_columns].corr()\\nsns.heatmap(delay_correlation, annot=True, cmap='coolwarm')\\n\""
      ]
     },
     "execution_count": 37,
     "metadata": {},
     "output_type": "execute_result"
    }
   ],
   "source": [
    "'''\n",
    "# Correlation between different types of delays\n",
    "delay_columns = ['DEP_DELAY', 'ARR_DELAY', 'WEATHER_DELAY', 'NAS_DELAY', 'CARRIER_DELAY', 'SECURITY_DELAY', 'LATE_AIRCRAFT_DELAY']\n",
    "delay_correlation = df[delay_columns].corr()\n",
    "sns.heatmap(delay_correlation, annot=True, cmap='coolwarm')\n",
    "'''"
   ]
  },
  {
   "cell_type": "code",
   "execution_count": 38,
   "metadata": {
    "colab": {
     "base_uri": "https://localhost:8080/",
     "height": 53
    },
    "id": "E07zaTuTWTcI",
    "outputId": "a3b7cb30-9572-4b7c-e00b-19e47f13a020"
   },
   "outputs": [
    {
     "data": {
      "text/plain": [
       "\"\\n# Convert CRS_DEP_TIME to hour of day\\ndf['DEP_HOUR'] = df['CRS_DEP_TIME'] // 100\\ndelay_by_hour = df.groupby('DEP_HOUR')['ARR_DELAY'].mean()\\ndelay_by_hour.plot(kind='line')\\nplt.xlabel('Hour of Day')\\nplt.ylabel('Average Arrival Delay')\\n\""
      ]
     },
     "execution_count": 38,
     "metadata": {},
     "output_type": "execute_result"
    }
   ],
   "source": [
    "'''\n",
    "# Convert CRS_DEP_TIME to hour of day\n",
    "df['DEP_HOUR'] = df['CRS_DEP_TIME'] // 100\n",
    "delay_by_hour = df.groupby('DEP_HOUR')['ARR_DELAY'].mean()\n",
    "delay_by_hour.plot(kind='line')\n",
    "plt.xlabel('Hour of Day')\n",
    "plt.ylabel('Average Arrival Delay')\n",
    "'''"
   ]
  },
  {
   "cell_type": "code",
   "execution_count": 39,
   "metadata": {
    "colab": {
     "base_uri": "https://localhost:8080/",
     "height": 53
    },
    "id": "SDFwQ9HYWTcI",
    "outputId": "da530fad-83dd-44ae-9597-1fdc979aa20a"
   },
   "outputs": [
    {
     "data": {
      "text/plain": [
       "\"\\n# Breakdown of delay types\\ndelay_types = ['WEATHER_DELAY', 'NAS_DELAY', 'CARRIER_DELAY', 'SECURITY_DELAY', 'LATE_AIRCRAFT_DELAY']\\ndf[delay_types].sum().plot(kind='pie', autopct='%1.1f%%')\\n\""
      ]
     },
     "execution_count": 39,
     "metadata": {},
     "output_type": "execute_result"
    }
   ],
   "source": [
    "'''\n",
    "# Breakdown of delay types\n",
    "delay_types = ['WEATHER_DELAY', 'NAS_DELAY', 'CARRIER_DELAY', 'SECURITY_DELAY', 'LATE_AIRCRAFT_DELAY']\n",
    "df[delay_types].sum().plot(kind='pie', autopct='%1.1f%%')\n",
    "'''"
   ]
  },
  {
   "cell_type": "code",
   "execution_count": 40,
   "metadata": {
    "colab": {
     "base_uri": "https://localhost:8080/",
     "height": 142
    },
    "id": "683eChr3WTcI",
    "outputId": "cbbb6d23-c283-4983-fbe0-cacb8bd9fe34"
   },
   "outputs": [
    {
     "data": {
      "text/plain": [
       "\"\\nimport matplotlib.pyplot as plt\\nimport seaborn as sns\\n\\n# Calculate average arrival delay by carrier\\ncarrier_delays = df.groupby('OP_CARRIER')['ARR_DELAY'].mean().sort_values(ascending=False)\\n\\n# Create the plot with improved styling\\nplt.figure(figsize=(12, 6))\\ncarrier_delays.plot(kind='bar')\\nplt.title('Average Arrival Delay by Airline', fontsize=16)\\nplt.xlabel('Airline', fontsize=12)\\nplt.ylabel('Average Delay (minutes)', fontsize=12)\\nplt.xticks(rotation=45, ha='right')\\nplt.tight_layout()\\n\\n# Optional: Add value labels on top of each bar\\nfor i, v in enumerate(carrier_delays):\\n    plt.text(i, v, f'{v:.2f}', ha='center', va='bottom')\\n\\nplt.show()\\n\\n# Alternative with Seaborn for more styling options\\nplt.figure(figsize=(12, 6))\\nsns.barplot(x=carrier_delays.index, y=carrier_delays.values)\\nplt.title('Average Arrival Delay by Airline', fontsize=16)\\nplt.xlabel('Airline', fontsize=12)\\nplt.ylabel('Average Delay (minutes)', fontsize=12)\\nplt.xticks(rotation=45, ha='right')\\nplt.tight_layout()\\nplt.show()\\n\""
      ]
     },
     "execution_count": 40,
     "metadata": {},
     "output_type": "execute_result"
    }
   ],
   "source": [
    "'''\n",
    "import matplotlib.pyplot as plt\n",
    "import seaborn as sns\n",
    "\n",
    "# Calculate average arrival delay by carrier\n",
    "carrier_delays = df.groupby('OP_CARRIER')['ARR_DELAY'].mean().sort_values(ascending=False)\n",
    "\n",
    "# Create the plot with improved styling\n",
    "plt.figure(figsize=(12, 6))\n",
    "carrier_delays.plot(kind='bar')\n",
    "plt.title('Average Arrival Delay by Airline', fontsize=16)\n",
    "plt.xlabel('Airline', fontsize=12)\n",
    "plt.ylabel('Average Delay (minutes)', fontsize=12)\n",
    "plt.xticks(rotation=45, ha='right')\n",
    "plt.tight_layout()\n",
    "\n",
    "# Optional: Add value labels on top of each bar\n",
    "for i, v in enumerate(carrier_delays):\n",
    "    plt.text(i, v, f'{v:.2f}', ha='center', va='bottom')\n",
    "\n",
    "plt.show()\n",
    "\n",
    "# Alternative with Seaborn for more styling options\n",
    "plt.figure(figsize=(12, 6))\n",
    "sns.barplot(x=carrier_delays.index, y=carrier_delays.values)\n",
    "plt.title('Average Arrival Delay by Airline', fontsize=16)\n",
    "plt.xlabel('Airline', fontsize=12)\n",
    "plt.ylabel('Average Delay (minutes)', fontsize=12)\n",
    "plt.xticks(rotation=45, ha='right')\n",
    "plt.tight_layout()\n",
    "plt.show()\n",
    "'''"
   ]
  },
  {
   "cell_type": "code",
   "execution_count": 41,
   "metadata": {
    "colab": {
     "base_uri": "https://localhost:8080/",
     "height": 53
    },
    "id": "uidfa5lUWTcJ",
    "outputId": "56987648-803f-4748-aa0c-27174292dbff"
   },
   "outputs": [
    {
     "data": {
      "text/plain": [
       "'\\n# Method 1: Using .loc[] with boolean indexing\\nfirst_row = df.loc[(df[\\'ARR_DELAY\\'] > 80) & (df[\\'ARR_DELAY\\'] < 100)].iloc[0]\\nprint(\"Method 1 - First Row:\")\\nprint(first_row)\\n'"
      ]
     },
     "execution_count": 41,
     "metadata": {},
     "output_type": "execute_result"
    }
   ],
   "source": [
    "'''\n",
    "# Method 1: Using .loc[] with boolean indexing\n",
    "first_row = df.loc[(df['ARR_DELAY'] > 80) & (df['ARR_DELAY'] < 100)].iloc[0]\n",
    "print(\"Method 1 - First Row:\")\n",
    "print(first_row)\n",
    "'''"
   ]
  },
  {
   "cell_type": "code",
   "execution_count": 42,
   "metadata": {
    "colab": {
     "base_uri": "https://localhost:8080/",
     "height": 35
    },
    "id": "11VMbuEPWTcK",
    "outputId": "91f14e2d-1226-4137-be21-69f9e7d120c7"
   },
   "outputs": [
    {
     "data": {
      "text/plain": [
       "'\\ndf.isnull().sum() # Only DelayReason has missing values\\n'"
      ]
     },
     "execution_count": 42,
     "metadata": {},
     "output_type": "execute_result"
    }
   ],
   "source": [
    "'''\n",
    "df.isnull().sum() # Only DelayReason has missing values\n",
    "'''"
   ]
  },
  {
   "cell_type": "markdown",
   "metadata": {
    "id": "MsxqjY7DWTcK"
   },
   "source": [
    "Let's start with feature engineering and determine how long each flight lasted. However, we need to also make sure that the timezones are correct, so let's check for which airports' data our dataset uses.\n"
   ]
  },
  {
   "cell_type": "code",
   "execution_count": 43,
   "metadata": {
    "colab": {
     "base_uri": "https://localhost:8080/",
     "height": 71
    },
    "id": "WSKx7m5VWTcK",
    "outputId": "6e477458-baed-48bc-b051-86bae4bc1911"
   },
   "outputs": [
    {
     "data": {
      "text/plain": [
       "\"\\nprint(df['Origin'].unique())\\n# ORD = O'Hare, Chigago, LAX = Los Angeles, DFW = Dallas Fort Worth, JFK = Kennedy New York, ATL = Atlanta\\nprint(df['Destination'].unique())\\n# MIA = Miami, SFO = San Francisco, BOS = Boston, SEA = Seattle, washington, 'JFK'\\n# UTC(-8) = SFO, LAX, SEA\\n# UTC(-6) = DFW, ORD\\n# UTC(-5) = ATL, JFK, MIA, BOS\\n\""
      ]
     },
     "execution_count": 43,
     "metadata": {},
     "output_type": "execute_result"
    }
   ],
   "source": [
    "'''\n",
    "print(df['Origin'].unique())\n",
    "# ORD = O'Hare, Chigago, LAX = Los Angeles, DFW = Dallas Fort Worth, JFK = Kennedy New York, ATL = Atlanta\n",
    "print(df['Destination'].unique())\n",
    "# MIA = Miami, SFO = San Francisco, BOS = Boston, SEA = Seattle, washington, 'JFK'\n",
    "# UTC(-8) = SFO, LAX, SEA\n",
    "# UTC(-6) = DFW, ORD\n",
    "# UTC(-5) = ATL, JFK, MIA, BOS\n",
    "'''"
   ]
  },
  {
   "cell_type": "code",
   "execution_count": 44,
   "metadata": {
    "colab": {
     "base_uri": "https://localhost:8080/",
     "height": 89
    },
    "id": "prf35PzyWTcL",
    "outputId": "625dda5b-1c5c-404c-d53d-7968420b2eeb"
   },
   "outputs": [
    {
     "data": {
      "text/plain": [
       "\"\\ndf_jfk_to_bos = df[(df['Origin'] == 'JFK') & (df['Destination'] == 'BOS')].copy()\\ndf_jfk_to_bos['FlightTime'] = pd.to_datetime(df_jfk_to_bos['ActualArrival']) - pd.to_datetime(df_jfk_to_bos['ActualDeparture'])\\naverage_flight_time_jfk_bos = df_jfk_to_bos['FlightTime'].mean()\\nprint(average_flight_time_jfk_bos)\\n\\ndf_mia_to_lax = df[(df['Origin'] == 'LAX') & (df['Destination'] == 'MIA')].copy()\\ndf_mia_to_lax['FlightTime'] = pd.to_datetime(df_mia_to_lax['ActualArrival']) - pd.to_datetime(df_mia_to_lax['ActualDeparture'])\\naverage_flight_time = df_mia_to_lax['FlightTime'].mean()\\nprint(average_flight_time)\\n\""
      ]
     },
     "execution_count": 44,
     "metadata": {},
     "output_type": "execute_result"
    }
   ],
   "source": [
    "\n",
    "'''\n",
    "df_jfk_to_bos = df[(df['Origin'] == 'JFK') & (df['Destination'] == 'BOS')].copy()\n",
    "df_jfk_to_bos['FlightTime'] = pd.to_datetime(df_jfk_to_bos['ActualArrival']) - pd.to_datetime(df_jfk_to_bos['ActualDeparture'])\n",
    "average_flight_time_jfk_bos = df_jfk_to_bos['FlightTime'].mean()\n",
    "print(average_flight_time_jfk_bos)\n",
    "\n",
    "df_mia_to_lax = df[(df['Origin'] == 'LAX') & (df['Destination'] == 'MIA')].copy()\n",
    "df_mia_to_lax['FlightTime'] = pd.to_datetime(df_mia_to_lax['ActualArrival']) - pd.to_datetime(df_mia_to_lax['ActualDeparture'])\n",
    "average_flight_time = df_mia_to_lax['FlightTime'].mean()\n",
    "print(average_flight_time)\n",
    "'''\n"
   ]
  },
  {
   "cell_type": "code",
   "execution_count": null,
   "metadata": {
    "id": "Km8U-Pj-WTcL"
   },
   "outputs": [],
   "source": []
  },
  {
   "cell_type": "markdown",
   "metadata": {
    "id": "F0DWAfftWTcL"
   },
   "source": [
    "In reality, a flight from Los Angeles to Miami should take about 4 hours and 45 minutes. In case our dataset does not consider timezone differences, flight time should be 7 hours and 45 minutes (as the timezone difference is 3 hours, thus the landing time is 3 hours larger than the actual flight time). In case of it considering timezone difference, flight time would be 3 hours less, thus about 4 hours and 45 minutes.\n",
    "\n",
    "By looking at the mean flight time of Miami to LA and seeing that it is about 3 hours and 25 minutes and also seeing that the flight time from NY to boston is about the same, we can conclude that this data is not realistic.\n",
    "\n",
    "Similar logic applies between New York and Boston. Therefore, we can conclude that the dataset is synthetic.\n"
   ]
  },
  {
   "cell_type": "code",
   "execution_count": 45,
   "metadata": {
    "colab": {
     "base_uri": "https://localhost:8080/",
     "height": 35
    },
    "id": "S1cCnGn0WTcL",
    "outputId": "4eb02dfd-0ec6-42fc-cf9c-397b22e96bc9"
   },
   "outputs": [
    {
     "data": {
      "text/plain": [
       "\"\\ndf['FlightTime'] = pd.to_datetime(df['ActualArrival']) - pd.to_datetime(df['ActualDeparture'])\\n\\ndf.head()\\n\""
      ]
     },
     "execution_count": 45,
     "metadata": {},
     "output_type": "execute_result"
    }
   ],
   "source": [
    "'''\n",
    "df['FlightTime'] = pd.to_datetime(df['ActualArrival']) - pd.to_datetime(df['ActualDeparture'])\n",
    "\n",
    "df.head()\n",
    "'''"
   ]
  },
  {
   "cell_type": "code",
   "execution_count": 46,
   "metadata": {
    "colab": {
     "base_uri": "https://localhost:8080/",
     "height": 125
    },
    "id": "0UromzYtWTcM",
    "outputId": "ef0f319b-926d-4c37-a60a-0d78689d2737"
   },
   "outputs": [
    {
     "data": {
      "text/plain": [
       "\"\\nimport matplotlib.pyplot as plt\\nimport seaborn as sns\\n\\n# Count the frequency of each delay reason\\ndelay_reason_counts = df['DelayReason'].value_counts()\\n\\n# Plot the frequency as a bar graph\\nplt.figure(figsize=(12, 6))\\nsns.barplot(x=delay_reason_counts.index, y=delay_reason_counts.values, palette='viridis')\\n\\n# Add labels and title\\nplt.xlabel('Delay Reason', fontsize=14)\\nplt.ylabel('Frequency', fontsize=14)\\nplt.title('Frequency of Flight Delay Reasons', fontsize=16)\\nplt.xticks(rotation=45, ha='right')  # Rotate x-axis labels for better readability\\n\\n# Annotate the bars with their frequency values\\nfor index, value in enumerate(delay_reason_counts.values):\\n    plt.text(index, value + 1, str(value), ha='center', va='bottom', fontsize=10)  # Adjust offset for readability\\n\\nplt.tight_layout()  # Adjust layout to prevent label cutoff\\n\\n# Show the plot\\nplt.show()\\n\""
      ]
     },
     "execution_count": 46,
     "metadata": {},
     "output_type": "execute_result"
    }
   ],
   "source": [
    "'''\n",
    "import matplotlib.pyplot as plt\n",
    "import seaborn as sns\n",
    "\n",
    "# Count the frequency of each delay reason\n",
    "delay_reason_counts = df['DelayReason'].value_counts()\n",
    "\n",
    "# Plot the frequency as a bar graph\n",
    "plt.figure(figsize=(12, 6))\n",
    "sns.barplot(x=delay_reason_counts.index, y=delay_reason_counts.values, palette='viridis')\n",
    "\n",
    "# Add labels and title\n",
    "plt.xlabel('Delay Reason', fontsize=14)\n",
    "plt.ylabel('Frequency', fontsize=14)\n",
    "plt.title('Frequency of Flight Delay Reasons', fontsize=16)\n",
    "plt.xticks(rotation=45, ha='right')  # Rotate x-axis labels for better readability\n",
    "\n",
    "# Annotate the bars with their frequency values\n",
    "for index, value in enumerate(delay_reason_counts.values):\n",
    "    plt.text(index, value + 1, str(value), ha='center', va='bottom', fontsize=10)  # Adjust offset for readability\n",
    "\n",
    "plt.tight_layout()  # Adjust layout to prevent label cutoff\n",
    "\n",
    "# Show the plot\n",
    "plt.show()\n",
    "'''"
   ]
  },
  {
   "cell_type": "markdown",
   "metadata": {
    "id": "mEOGzbNmWTcM"
   },
   "source": [
    "The most common reason for the delay is air traffic control. However, the differences in frequencies are very small."
   ]
  },
  {
   "cell_type": "code",
   "execution_count": 47,
   "metadata": {
    "colab": {
     "base_uri": "https://localhost:8080/",
     "height": 53
    },
    "id": "Um9CoDNxWTcM",
    "outputId": "9d1f8335-3c3d-4898-abd5-0e7d1df5d9ac"
   },
   "outputs": [
    {
     "data": {
      "text/plain": [
       "\"\\nimport numpy as np\\nfig,ax3 = plt.subplots(3)\\nax3[0].plot('FlightID', 'DelayMinutes', data=df[0:1000])\\nax3[1].plot('FlightID', 'DelayMinutes', data=df[5000:6000])\\nax3[2].plot('FlightID', 'DelayMinutes', data=df[100000:101000])\\nplt.show()\\n\""
      ]
     },
     "execution_count": 47,
     "metadata": {},
     "output_type": "execute_result"
    }
   ],
   "source": [
    "'''\n",
    "import numpy as np\n",
    "fig,ax3 = plt.subplots(3)\n",
    "ax3[0].plot('FlightID', 'DelayMinutes', data=df[0:1000])\n",
    "ax3[1].plot('FlightID', 'DelayMinutes', data=df[5000:6000])\n",
    "ax3[2].plot('FlightID', 'DelayMinutes', data=df[100000:101000])\n",
    "plt.show()\n",
    "'''\n"
   ]
  },
  {
   "cell_type": "code",
   "execution_count": 48,
   "metadata": {
    "colab": {
     "base_uri": "https://localhost:8080/",
     "height": 35
    },
    "id": "CFa80M4PWTcM",
    "outputId": "9956623c-1970-4021-efae-8b48cecaa2e8"
   },
   "outputs": [
    {
     "data": {
      "text/plain": [
       "\"\\nprint(np.min(df['DelayMinutes']))\\nprint(np.max(df['DelayMinutes']))\\n\""
      ]
     },
     "execution_count": 48,
     "metadata": {},
     "output_type": "execute_result"
    }
   ],
   "source": [
    "'''\n",
    "print(np.min(df['DelayMinutes']))\n",
    "print(np.max(df['DelayMinutes']))\n",
    "'''"
   ]
  },
  {
   "cell_type": "markdown",
   "metadata": {
    "id": "huUjHE7GWTcN"
   },
   "source": [
    "The biggest delay was 30 minutes while the smallest delay was -10 minutes which means that the flight took off 10 minutes before it was supposed to."
   ]
  },
  {
   "cell_type": "code",
   "execution_count": 49,
   "metadata": {
    "colab": {
     "base_uri": "https://localhost:8080/",
     "height": 53
    },
    "id": "t9JhdW3GWTcN",
    "outputId": "c9a8d479-819c-48a2-a5ef-a664122f3232"
   },
   "outputs": [
    {
     "data": {
      "text/plain": [
       "\"\\n# First, ensure 'ActualArrival' is in datetime format\\ndf['ActualArrival'] = pd.to_datetime(df['ActualArrival'])\\n\\n# Then extract the day of the week as a string\\ndf['Weekday'] = df['ActualArrival'].dt.day_name()\\n\""
      ]
     },
     "execution_count": 49,
     "metadata": {},
     "output_type": "execute_result"
    }
   ],
   "source": [
    "'''\n",
    "# First, ensure 'ActualArrival' is in datetime format\n",
    "df['ActualArrival'] = pd.to_datetime(df['ActualArrival'])\n",
    "\n",
    "# Then extract the day of the week as a string\n",
    "df['Weekday'] = df['ActualArrival'].dt.day_name()\n",
    "'''"
   ]
  },
  {
   "cell_type": "code",
   "execution_count": 50,
   "metadata": {
    "colab": {
     "base_uri": "https://localhost:8080/",
     "height": 107
    },
    "id": "hTWKyTdWWTcN",
    "outputId": "45de8d37-00bd-4fea-c989-f5b21a637098"
   },
   "outputs": [
    {
     "data": {
      "text/plain": [
       "\"\\n# Method 1: Using value_counts()\\nweekday_flight_counts = df['ActualArrival'].dt.day_name().value_counts()\\n\\n# Method 2: Using groupby()\\nweekday_flight_counts = df.groupby(df['ActualArrival'].dt.day_name()).size()\\n\\n# Method 3: If you've already created a 'Weekday' column\\nweekday_flight_counts = df['Weekday'].value_counts()\\n\\n# Sort in standard week order\\nday_order = ['Monday', 'Tuesday', 'Wednesday', 'Thursday', 'Friday', 'Saturday', 'Sunday']\\nweekday_flight_counts = weekday_flight_counts.reindex(day_order)\\n\\n# Visualize as a bar plot\\nplt.figure(figsize=(10, 6))\\nweekday_flight_counts.plot(kind='bar')\\nplt.title('Number of Flights by Weekday')\\nplt.xlabel('Day of Week')\\nplt.ylabel('Number of Flights')\\nplt.tight_layout()\\nplt.show()\\n\\n# Print the counts\\nprint(weekday_flight_counts)\\n\""
      ]
     },
     "execution_count": 50,
     "metadata": {},
     "output_type": "execute_result"
    }
   ],
   "source": [
    "'''\n",
    "# Method 1: Using value_counts()\n",
    "weekday_flight_counts = df['ActualArrival'].dt.day_name().value_counts()\n",
    "\n",
    "# Method 2: Using groupby()\n",
    "weekday_flight_counts = df.groupby(df['ActualArrival'].dt.day_name()).size()\n",
    "\n",
    "# Method 3: If you've already created a 'Weekday' column\n",
    "weekday_flight_counts = df['Weekday'].value_counts()\n",
    "\n",
    "# Sort in standard week order\n",
    "day_order = ['Monday', 'Tuesday', 'Wednesday', 'Thursday', 'Friday', 'Saturday', 'Sunday']\n",
    "weekday_flight_counts = weekday_flight_counts.reindex(day_order)\n",
    "\n",
    "# Visualize as a bar plot\n",
    "plt.figure(figsize=(10, 6))\n",
    "weekday_flight_counts.plot(kind='bar')\n",
    "plt.title('Number of Flights by Weekday')\n",
    "plt.xlabel('Day of Week')\n",
    "plt.ylabel('Number of Flights')\n",
    "plt.tight_layout()\n",
    "plt.show()\n",
    "\n",
    "# Print the counts\n",
    "print(weekday_flight_counts)\n",
    "'''"
   ]
  },
  {
   "cell_type": "code",
   "execution_count": 51,
   "metadata": {
    "colab": {
     "base_uri": "https://localhost:8080/",
     "height": 142
    },
    "id": "E3rNNxjYWTcO",
    "outputId": "c46f302c-593b-4ad2-b385-4363f33dde1f"
   },
   "outputs": [
    {
     "data": {
      "text/plain": [
       "'\\n# Convert to datetime if not already\\ndf[\\'ActualDeparture\\'] = pd.to_datetime(df[\\'ActualDeparture\\'])\\n\\n# Extract weekday and time\\ndf[\\'DepartureWeekday\\'] = df[\\'ActualDeparture\\'].dt.day_name()\\ndf[\\'DepartureTime\\'] = df[\\'ActualDeparture\\'].dt.time\\n\\n# Convert time to timedelta for easier comparison\\ndf[\\'DepartureTimedelta\\'] = pd.to_timedelta(df[\\'DepartureTime\\'].astype(str))\\n\\n# Find earliest and latest times for each weekday\\nearliest_times = df.groupby(\\'DepartureWeekday\\')[\\'DepartureTimedelta\\'].min()\\nlatest_times = df.groupby(\\'DepartureWeekday\\')[\\'DepartureTimedelta\\'].max()\\n\\n# Sort in standard week order\\nday_order = [\\'Monday\\', \\'Tuesday\\', \\'Wednesday\\', \\'Thursday\\', \\'Friday\\', \\'Saturday\\', \\'Sunday\\']\\nearliest_times = earliest_times.reindex(day_order)\\nlatest_times = latest_times.reindex(day_order)\\n\\n# Print results\\nprint(\"Earliest departure times by weekday:\")\\nprint(earliest_times)\\nprint(\"\\nLatest departure times by weekday:\")\\nprint(latest_times)\\n'"
      ]
     },
     "execution_count": 51,
     "metadata": {},
     "output_type": "execute_result"
    }
   ],
   "source": [
    "'''\n",
    "# Convert to datetime if not already\n",
    "df['ActualDeparture'] = pd.to_datetime(df['ActualDeparture'])\n",
    "\n",
    "# Extract weekday and time\n",
    "df['DepartureWeekday'] = df['ActualDeparture'].dt.day_name()\n",
    "df['DepartureTime'] = df['ActualDeparture'].dt.time\n",
    "\n",
    "# Convert time to timedelta for easier comparison\n",
    "df['DepartureTimedelta'] = pd.to_timedelta(df['DepartureTime'].astype(str))\n",
    "\n",
    "# Find earliest and latest times for each weekday\n",
    "earliest_times = df.groupby('DepartureWeekday')['DepartureTimedelta'].min()\n",
    "latest_times = df.groupby('DepartureWeekday')['DepartureTimedelta'].max()\n",
    "\n",
    "# Sort in standard week order\n",
    "day_order = ['Monday', 'Tuesday', 'Wednesday', 'Thursday', 'Friday', 'Saturday', 'Sunday']\n",
    "earliest_times = earliest_times.reindex(day_order)\n",
    "latest_times = latest_times.reindex(day_order)\n",
    "\n",
    "# Print results\n",
    "print(\"Earliest departure times by weekday:\")\n",
    "print(earliest_times)\n",
    "print(\"\\nLatest departure times by weekday:\")\n",
    "print(latest_times)\n",
    "'''"
   ]
  },
  {
   "cell_type": "markdown",
   "metadata": {
    "id": "HhDtUrd_WTcO"
   },
   "source": [
    "Finding the earliest flight and latest flight"
   ]
  },
  {
   "cell_type": "code",
   "execution_count": 52,
   "metadata": {
    "colab": {
     "base_uri": "https://localhost:8080/",
     "height": 71
    },
    "id": "9Gozk7E2WTcO",
    "outputId": "93b902b2-88c9-4914-dba0-b6320bad96ec"
   },
   "outputs": [
    {
     "data": {
      "text/plain": [
       "'\\n# Ensure ActualDeparture is in datetime format\\n\\ndf[\\'ActualDeparture\\'] = pd.to_datetime(df[\\'ActualDeparture\\'])\\n\\n# Find the earliest and latest departure dates\\nearliest_departure = df[\\'ActualDeparture\\'].min()\\nlatest_departure = df[\\'ActualDeparture\\'].max()\\n\\n# Print the results\\nprint(f\"Earliest Departure Date: {earliest_departure}\")\\nprint(f\"Latest Departure Date: {latest_departure}\")\\n'"
      ]
     },
     "execution_count": 52,
     "metadata": {},
     "output_type": "execute_result"
    }
   ],
   "source": [
    "'''\n",
    "# Ensure ActualDeparture is in datetime format\n",
    "\n",
    "df['ActualDeparture'] = pd.to_datetime(df['ActualDeparture'])\n",
    "\n",
    "# Find the earliest and latest departure dates\n",
    "earliest_departure = df['ActualDeparture'].min()\n",
    "latest_departure = df['ActualDeparture'].max()\n",
    "\n",
    "# Print the results\n",
    "print(f\"Earliest Departure Date: {earliest_departure}\")\n",
    "print(f\"Latest Departure Date: {latest_departure}\")\n",
    "'''"
   ]
  },
  {
   "cell_type": "markdown",
   "metadata": {
    "id": "COIR2UXFWTcO"
   },
   "source": [
    "Uniform distribution of delay minutes"
   ]
  },
  {
   "cell_type": "code",
   "execution_count": 53,
   "metadata": {
    "colab": {
     "base_uri": "https://localhost:8080/",
     "height": 71
    },
    "id": "4GDtfhbWWTcP",
    "outputId": "8a27ae7a-1dd2-4eac-f491-dd66664fddf3"
   },
   "outputs": [
    {
     "data": {
      "text/plain": [
       "\"\\nimport matplotlib.pyplot as plt\\nimport seaborn as sns\\n\\n# Count the occurrences of each DelayMinutes value\\ndelay_counts = df[5000:7000]['DelayMinutes'].value_counts().sort_index()\\n\\n# Create the bar plot\\nplt.figure(figsize=(10, 6))\\ndelay_counts.plot(kind='bar')\\nplt.title('Number of Flights by Delay Minutes')\\nplt.xlabel('Delay Minutes')\\nplt.ylabel('Number of Flights')\\nplt.tight_layout()\\nplt.show()\\n\""
      ]
     },
     "execution_count": 53,
     "metadata": {},
     "output_type": "execute_result"
    }
   ],
   "source": [
    "'''\n",
    "import matplotlib.pyplot as plt\n",
    "import seaborn as sns\n",
    "\n",
    "# Count the occurrences of each DelayMinutes value\n",
    "delay_counts = df[5000:7000]['DelayMinutes'].value_counts().sort_index()\n",
    "\n",
    "# Create the bar plot\n",
    "plt.figure(figsize=(10, 6))\n",
    "delay_counts.plot(kind='bar')\n",
    "plt.title('Number of Flights by Delay Minutes')\n",
    "plt.xlabel('Delay Minutes')\n",
    "plt.ylabel('Number of Flights')\n",
    "plt.tight_layout()\n",
    "plt.show()\n",
    "'''"
   ]
  },
  {
   "cell_type": "code",
   "execution_count": 54,
   "metadata": {
    "colab": {
     "base_uri": "https://localhost:8080/",
     "height": 35
    },
    "id": "D-4Iuh4-WTcP",
    "outputId": "bd6b5f3b-6307-470d-e998-e656fe1ad840"
   },
   "outputs": [
    {
     "data": {
      "text/plain": [
       "\"\\nmean_delays = df.groupby('Origin')['DelayMinutes'].mean()\\n\\nprint(mean_delays)\\n\""
      ]
     },
     "execution_count": 54,
     "metadata": {},
     "output_type": "execute_result"
    }
   ],
   "source": [
    "'''\n",
    "mean_delays = df.groupby('Origin')['DelayMinutes'].mean()\n",
    "\n",
    "print(mean_delays)\n",
    "'''"
   ]
  },
  {
   "cell_type": "code",
   "execution_count": 55,
   "metadata": {
    "colab": {
     "base_uri": "https://localhost:8080/",
     "height": 35
    },
    "id": "HxaNh4XDWTcP",
    "outputId": "ca1774a0-a251-46d2-8f54-9dc3ef41cdab"
   },
   "outputs": [
    {
     "data": {
      "text/plain": [
       "\"\\nmean_delays = df.groupby('Destination')['DelayMinutes'].mean()\\n\\nprint(mean_delays)\\n\""
      ]
     },
     "execution_count": 55,
     "metadata": {},
     "output_type": "execute_result"
    }
   ],
   "source": [
    "'''\n",
    "mean_delays = df.groupby('Destination')['DelayMinutes'].mean()\n",
    "\n",
    "print(mean_delays)\n",
    "'''"
   ]
  },
  {
   "cell_type": "code",
   "execution_count": 56,
   "metadata": {
    "colab": {
     "base_uri": "https://localhost:8080/",
     "height": 35
    },
    "id": "lL8Mt2IvWTcP",
    "outputId": "6433c00a-d47f-4f83-e4ce-1788c119b201"
   },
   "outputs": [
    {
     "data": {
      "text/plain": [
       "\"\\nmean_delays = df.groupby('DelayReason')['DelayMinutes'].mean()\\n\\n\\nprint(mean_delays)\\n\""
      ]
     },
     "execution_count": 56,
     "metadata": {},
     "output_type": "execute_result"
    }
   ],
   "source": [
    "'''\n",
    "mean_delays = df.groupby('DelayReason')['DelayMinutes'].mean()\n",
    "\n",
    "\n",
    "print(mean_delays)\n",
    "'''"
   ]
  },
  {
   "cell_type": "code",
   "execution_count": 57,
   "metadata": {
    "colab": {
     "base_uri": "https://localhost:8080/",
     "height": 71
    },
    "id": "xu-M3O30WTcQ",
    "outputId": "c9e95b25-f5f9-4167-c2e8-4669ae0eae79"
   },
   "outputs": [
    {
     "data": {
      "text/plain": [
       "'\\nfrom scipy.stats import kstest, uniform\\n\\n# Scale the data to fit the uniform range\\nscaled_data = (df[\\'DelayMinutes\\'] - df[\\'DelayMinutes\\'].min()) / (df[\\'DelayMinutes\\'].max() - df[\\'DelayMinutes\\'].min())\\nks_stat, p_value = kstest(scaled_data, uniform.cdf)\\nprint(f\"KS Statistic: {ks_stat}, P-value: {p_value}\")\\n'"
      ]
     },
     "execution_count": 57,
     "metadata": {},
     "output_type": "execute_result"
    }
   ],
   "source": [
    "'''\n",
    "from scipy.stats import kstest, uniform\n",
    "\n",
    "# Scale the data to fit the uniform range\n",
    "scaled_data = (df['DelayMinutes'] - df['DelayMinutes'].min()) / (df['DelayMinutes'].max() - df['DelayMinutes'].min())\n",
    "ks_stat, p_value = kstest(scaled_data, uniform.cdf)\n",
    "print(f\"KS Statistic: {ks_stat}, P-value: {p_value}\")\n",
    "'''"
   ]
  },
  {
   "cell_type": "markdown",
   "metadata": {
    "id": "RX0sk6GlWTcQ"
   },
   "source": [
    "This suggests that \"DelayMinutes\" has been generated from Uniform distribution."
   ]
  },
  {
   "cell_type": "markdown",
   "metadata": {
    "id": "E9vMIPyskSfD"
   },
   "source": [
    "# EDA\n",
    "Pyplot and seaborn for visualising data.  (*TODO: make explanatory text fancier and more precise.*)"
   ]
  },
  {
   "cell_type": "code",
   "execution_count": 58,
   "metadata": {
    "id": "jjKTn3syiWpV"
   },
   "outputs": [],
   "source": [
    "import matplotlib.pyplot as plt\n",
    "import seaborn as sns\n",
    "\n",
    "delay_cols = ['DEP_DELAY', 'ARR_DELAY', 'CARRIER_DELAY', 'WEATHER_DELAY', 'NAS_DELAY', 'LATE_AIRCRAFT_DELAY']"
   ]
  },
  {
   "cell_type": "markdown",
   "metadata": {},
   "source": [
    "Firstly let's create a heatmap between the delay factors."
   ]
  },
  {
   "cell_type": "code",
   "execution_count": 66,
   "metadata": {
    "scrolled": true
   },
   "outputs": [
    {
     "data": {
      "image/png": "[encoded data removed]",
      "text/plain": [
       "<Figure size 1000x800 with 2 Axes>"
      ]
     },
     "metadata": {},
     "output_type": "display_data"
    }
   ],
   "source": [
    "corr_matrix = non_cancel_divert[delay_cols].corr()\n",
    "\n",
    "plt.figure(figsize=(10, 8))\n",
    "sns.heatmap(corr_matrix, annot=True, cmap='coolwarm', fmt=\".2f\", linewidths=0.5)\n",
    "plt.title('Correlation Heatmap of Delay Statistics')\n",
    "plt.show()"
   ]
  },
  {
   "cell_type": "markdown",
   "metadata": {},
   "source": [
    "Looking at the heatmap we can see the correlations between the delay factors.\n",
    "- DEP_DELAY and ARR_DELAY have high correlation. This is expected, as delayed departure results in a delayed arrival.\n",
    "- DEP_DELAY and CARRIER_DELAY have a medium correlation, which means delays caused by the airline are somewhat related to departure delays.\n",
    "- WEATHER_DELAY has low correlation to other factors, which means weather isn't a big cause of delays.\n",
    "- LATE_AIRCRAFT_DELAY has medium correlation to DEP_DELAY and ARR_DELAY, which means aircraft delays contribute significantly to delays in departures and arrivals.\n",
    "- NAS_DELAY has low correlations to other factors, which means it doesn't affect delays that much.\n",
    "\n",
    "\n",
    "Now lets create box plots for some simple delay analysis, for this we will currently use sampled_data (around 10% of the original), because the data is huge. (todo: try to use full data)"
   ]
  },
  {
   "cell_type": "code",
   "execution_count": 74,
   "metadata": {},
   "outputs": [
    {
     "data": {
      "image/png": "[encoded data removed]",
      "text/plain": [
       "<Figure size 1200x800 with 6 Axes>"
      ]
     },
     "metadata": {},
     "output_type": "display_data"
    }
   ],
   "source": [
    "sampled_data = non_cancel_divert.sample(frac=0.1, random_state=42)\n",
    "\n",
    "plt.figure(figsize=(12, 8))\n",
    "for i, col in enumerate(delay_cols, 1):\n",
    "    plt.subplot(2, 3, i)\n",
    "    sns.histplot(sampled_data[col], bins=50, kde=True, color='blue', edgecolor='black')\n",
    "    plt.title(f'Distribution of {col}')\n",
    "    plt.xlabel('Delay (minutes)')\n",
    "    plt.ylabel('Frequency')\n",
    "plt.tight_layout()\n",
    "plt.show()"
   ]
  },
  {
   "cell_type": "markdown",
   "metadata": {},
   "source": [
    "Histograms show distributions of various types of delays, with most of them being around the lower end of the scale, which means most of the delays are somewhat short, but some delays are absurdly long, which seems odd.\n",
    "\n",
    "Now let's get into delay factors breakdown by categorical variables."
   ]
  },
  {
   "cell_type": "markdown",
   "metadata": {},
   "source": [
    "Starting off with carrier delays."
   ]
  },
  {
   "cell_type": "code",
   "execution_count": 97,
   "metadata": {},
   "outputs": [
    {
     "data": {
      "image/png": "[encoded data removed]",
      "text/plain": [
       "<Figure size 1200x600 with 1 Axes>"
      ]
     },
     "metadata": {},
     "output_type": "display_data"
    }
   ],
   "source": [
    "carrier_delay = df_cleaned2.groupby('OP_CARRIER')[['DEP_DELAY', 'CARRIER_DELAY', 'WEATHER_DELAY']].mean()\n",
    "carrier_delay.plot(kind='bar', figsize=(12, 6))\n",
    "plt.title('Average Delay by Carrier')\n",
    "plt.xlabel('Carrier')\n",
    "plt.ylabel('Average Delay (minutes)')\n",
    "plt.show()"
   ]
  },
  {
   "cell_type": "markdown",
   "metadata": {},
   "source": [
    "Mostly it's the same all across the plot, but there's an outlier (HA), which has high CARRIER_DELAY and negative DEP_DELAY, which is odd. But the main factor causing the longest delays is CARRIER_DELAY across all the carriers. The second cause is DEP_DELAY and the lowest is WEATHER_DELAY, which we already concluded from the heatmap."
   ]
  },
  {
   "cell_type": "markdown",
   "metadata": {},
   "source": [
    "Next lets look at the average departure delay by the top 30 and bottom 30 airports. We aren't using all of the airports, because there are way too many of them."
   ]
  },
  {
   "cell_type": "code",
   "execution_count": 99,
   "metadata": {},
   "outputs": [
    {
     "name": "stderr",
     "output_type": "stream",
     "text": [
      "C:\\Users\\Rainer\\AppData\\Local\\Temp\\ipykernel_18332\\2523970364.py:5: UserWarning: Boolean Series key will be reindexed to match DataFrame index.\n",
      "  top_30_data = df_cleaned2[df_cleaned['ORIGIN'].isin(top_30_airports)]\n",
      "C:\\Users\\Rainer\\AppData\\Local\\Temp\\ipykernel_18332\\2523970364.py:6: UserWarning: Boolean Series key will be reindexed to match DataFrame index.\n",
      "  bottom_30_data = df_cleaned2[df_cleaned['ORIGIN'].isin(bottom_30_airports)]\n"
     ]
    },
    {
     "data": {
      "image/png": "[encoded data removed]",
      "text/plain": [
       "<Figure size 1400x800 with 1 Axes>"
      ]
     },
     "metadata": {},
     "output_type": "display_data"
    }
   ],
   "source": [
    "airport_flight_counts = df_cleaned2['ORIGIN'].value_counts()\n",
    "\n",
    "top_30_airports = airport_flight_counts.head(30).index\n",
    "bottom_30_airports = airport_flight_counts.tail(30).index\n",
    "top_30_data = df_cleaned2[df_cleaned['ORIGIN'].isin(top_30_airports)]\n",
    "bottom_30_data = df_cleaned2[df_cleaned['ORIGIN'].isin(bottom_30_airports)]\n",
    "top_30_delay = top_30_data.groupby('ORIGIN')['DEP_DELAY'].mean()\n",
    "bottom_30_delay = bottom_30_data.groupby('ORIGIN')['DEP_DELAY'].mean()\n",
    "\n",
    "airport_delay = pd.concat([top_30_delay, bottom_30_delay])\n",
    "\n",
    "# Plot the average departure delays for top 30 and bottom 30 airports\n",
    "plt.figure(figsize=(14, 8))\n",
    "airport_delay.sort_values().plot(kind='bar')\n",
    "plt.title('Average Departure Delay by Airport (Top 30 and Bottom 30)')\n",
    "plt.xlabel('Airport')\n",
    "plt.ylabel('Average Delay (minutes)')\n",
    "plt.xticks(rotation=45)\n",
    "plt.show()\n"
   ]
  },
  {
   "cell_type": "markdown",
   "metadata": {},
   "source": [
    "Looking at the plot it can be noted that PPG is the airport with the longest average delays (almost an hour!). There are also some airports with negative departure delays which means they depart flights earlier or there are outliers in the data."
   ]
  },
  {
   "cell_type": "markdown",
   "metadata": {},
   "source": [
    "Now lets take a look at average departure delay per month."
   ]
  },
  {
   "cell_type": "code",
   "execution_count": 102,
   "metadata": {
    "scrolled": true
   },
   "outputs": [
    {
     "name": "stderr",
     "output_type": "stream",
     "text": [
      "C:\\Users\\Rainer\\AppData\\Local\\Temp\\ipykernel_18332\\1828735205.py:2: SettingWithCopyWarning: \n",
      "A value is trying to be set on a copy of a slice from a DataFrame.\n",
      "Try using .loc[row_indexer,col_indexer] = value instead\n",
      "\n",
      "See the caveats in the documentation: https://pandas.pydata.org/pandas-docs/stable/user_guide/indexing.html#returning-a-view-versus-a-copy\n",
      "  df_cleaned2['FL_DATE'] = pd.to_datetime(df_cleaned2['FL_DATE'], errors='coerce')\n"
     ]
    },
    {
     "data": {
      "image/png": "[encoded data removed]",
      "text/plain": [
       "<Figure size 1400x800 with 1 Axes>"
      ]
     },
     "metadata": {},
     "output_type": "display_data"
    }
   ],
   "source": [
    "# Extract Year and Month from FL_DATE\n",
    "df_cleaned2['FL_DATE'] = pd.to_datetime(df_cleaned2['FL_DATE'], errors='coerce')\n",
    "df_cleaned2.loc[:, 'Year_Month'] = df_cleaned2['FL_DATE'].dt.to_period('M')\n",
    "\n",
    "# Group by Year-Month and calculate the average departure delay\n",
    "monthly_delay = df_cleaned2.groupby('Year_Month')['DEP_DELAY'].mean()\n",
    "\n",
    "# plot\n",
    "plt.figure(figsize=(14, 8))\n",
    "monthly_delay.plot(kind='line', marker='o', color='skyblue', linestyle='-', linewidth=2)\n",
    "plt.title('Average Departure Delay per Month')\n",
    "plt.xlabel('Month')\n",
    "plt.ylabel('Average Departure Delay in minutes')\n",
    "plt.xticks(rotation=45)\n",
    "plt.grid(True)\n",
    "plt.show()\n"
   ]
  },
  {
   "cell_type": "markdown",
   "metadata": {},
   "source": [
    "Taking look at the plot we can see that the months leading up to the summer months the delay get bigger and bigger and in December the delay also spikes. This is somewhat expected because a lot of travelling takes place in summer and Christmas and New Years is in December."
   ]
  }
 ],
 "metadata": {
  "colab": {
   "provenance": []
  },
  "kernelspec": {
   "display_name": "Python 3 (ipykernel)",
   "language": "python",
   "name": "python3"
  },
  "language_info": {
   "codemirror_mode": {
    "name": "ipython",
    "version": 3
   },
   "file_extension": ".py",
   "mimetype": "text/x-python",
   "name": "python",
   "nbconvert_exporter": "python",
   "pygments_lexer": "ipython3",
   "version": "3.12.7"
  }
 },
 "nbformat": 4,
 "nbformat_minor": 4
}
